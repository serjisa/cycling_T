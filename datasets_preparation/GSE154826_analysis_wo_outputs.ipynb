{
 "cells": [
  {
   "cell_type": "markdown",
   "id": "3b191eda-3aa6-4019-ab5e-43cd7248c782",
   "metadata": {},
   "source": [
    "# GSE154826 dataset analysis"
   ]
  },
  {
   "cell_type": "markdown",
   "id": "48a328bf-3787-4c79-b6d6-dc4730ab4524",
   "metadata": {},
   "source": [
    "## Loading packages, setting image parameters"
   ]
  },
  {
   "cell_type": "code",
   "execution_count": null,
   "id": "d596243a-a87e-4d02-aac2-37b45e56baa0",
   "metadata": {},
   "outputs": [],
   "source": [
    "import numpy as np\n",
    "import pandas as pd\n",
    "import scanpy as sc\n",
    "import scirpy as ir\n",
    "from matplotlib import pyplot as plt, cm as mpl_cm\n",
    "from cycler import cycler\n",
    "\n",
    "\n",
    "import seaborn as sns\n",
    "\n",
    "from glob import glob\n",
    "import tarfile\n",
    "import anndata\n",
    "import warnings\n",
    "\n",
    "import scvelo as scv\n",
    "\n",
    "# Additional functions\n",
    "sns.set_style(\"ticks\")\n",
    "\n",
    "def beautiful_cmap(initial_cmap=\"Reds\", grey_intensity=0.2, color_intencity=0.1):\n",
    "    from matplotlib import cm\n",
    "    from matplotlib.colors import ListedColormap\n",
    "    import numpy as np\n",
    "    \n",
    "    cm_color = cm.get_cmap(initial_cmap, 128)\n",
    "    cm_grey = cm.get_cmap(\"Greys\", 128)\n",
    "    \n",
    "    c = ListedColormap(\n",
    "        np.vstack(\n",
    "            (cm_grey(np.linspace(grey_intensity, grey_intensity, 1)),\n",
    "             cm_color(np.linspace(color_intencity, 1, 128)))\n",
    "    ))\n",
    "    \n",
    "    return c\n",
    "\n",
    "Reds = beautiful_cmap()"
   ]
  },
  {
   "cell_type": "markdown",
   "id": "bc4037c9-c8fa-4fcf-9569-92ca6c382bda",
   "metadata": {},
   "source": [
    "## Loading data"
   ]
  },
  {
   "cell_type": "markdown",
   "id": "91dff08b-42d2-4370-ae3d-da4154159dcd",
   "metadata": {},
   "source": [
    "Download and unzip the datasets in advance as specified in the <mark> GSE154826_loading_data.txt </mark>."
   ]
  },
  {
   "cell_type": "markdown",
   "id": "d64418ba-8d24-441b-8b11-caa3b919e532",
   "metadata": {},
   "source": [
    "Information about samples is in <mark> GSE154826_sample_annots.csv </mark>."
   ]
  },
  {
   "cell_type": "code",
   "execution_count": null,
   "id": "db476463-3a11-4e3d-ae6a-2bbc70766c5f",
   "metadata": {},
   "outputs": [],
   "source": [
    "sample_annots = pd.read_csv('data/GSE154826_sample_annots.csv')\n",
    "sample_annots"
   ]
  },
  {
   "cell_type": "code",
   "execution_count": null,
   "id": "b3dc2da2-a8e1-4701-817c-812002d4515b",
   "metadata": {
    "collapsed": true,
    "jupyter": {
     "outputs_hidden": true
    },
    "tags": []
   },
   "outputs": [],
   "source": [
    "adatas = []\n",
    "for index, row in sample_annots[sample_annots.Species == 'human'][['patient_ID', 'amp_batch_ID', 'old_lib_name', 'vdj_kit']].drop_duplicates().iterrows():\n",
    "    print(f\"amp_batch_ID_{row.amp_batch_ID}\")\n",
    "    adata = sc.read_10x_mtx(f\"data/GSE154826_amp_batch_ID_{row.amp_batch_ID}\", \n",
    "                            prefix = f'{row.amp_batch_ID}_patient_{row.patient_ID}-{row.old_lib_name}_')\n",
    "    if pd.isna(row.vdj_kit) == False:\n",
    "        adata_tcr = ir.io.read_10x_vdj(f\"data/GSE154826_amp_batch_ID_{row.amp_batch_ID}/\n",
    "                                       {row.amp_batch_ID}_patient_{row.patient_ID}-{row.old_lib_name}_filtered_contig_annotations.csv\")\n",
    "        ir.pp.merge_with_ir(adata, adata_tcr)\n",
    "    adata.obs[\"patient\"] = row.patient_ID\n",
    "    adata.obs[\"amp_batch_ID\"] = str(row.amp_batch_ID)\n",
    "    adata.obs.index = [barcode.split(\"-\")[0] + f\":P{row.patient_ID}_B{row.amp_batch_ID}\" for barcode in adata.obs.index]\n",
    "    adata.var_names_make_unique()\n",
    "    adatas.append(adata)"
   ]
  },
  {
   "cell_type": "markdown",
   "id": "68c1e7ae-2ade-42ac-ab42-e0f16249f603",
   "metadata": {},
   "source": [
    "Merge anndata objects using concat (**join = 'outer'** to take all columns)"
   ]
  },
  {
   "cell_type": "code",
   "execution_count": null,
   "id": "13d1b961-c6bc-4fd3-bf32-0a5018819696",
   "metadata": {},
   "outputs": [],
   "source": [
    "# Merge anndata objects\n",
    "adata = anndata.concat(adatas, join = 'outer')"
   ]
  },
  {
   "cell_type": "code",
   "execution_count": null,
   "id": "44d67e38-ed69-4ae4-bdb4-90529c82c3ef",
   "metadata": {},
   "outputs": [],
   "source": [
    "adata.obs"
   ]
  },
  {
   "cell_type": "markdown",
   "id": "e8893c3a-28aa-4247-9d32-36e4210d5aac",
   "metadata": {},
   "source": [
    "## Preparing data for analysis"
   ]
  },
  {
   "cell_type": "markdown",
   "id": "5edde129-0b35-45e4-b748-15e5cc4bf89f",
   "metadata": {},
   "source": [
    "Filtering out genes found in less than 10 cells.\n",
    "\n",
    "Filtering obviously bad cells (if the cell contains less than 100 counts, most likely this barcode corresponds to a drop into which the cell did not fall, but extracellular DNA was sequenced)"
   ]
  },
  {
   "cell_type": "code",
   "execution_count": null,
   "id": "3d0f5527-4d58-47b3-96b5-bb4977ce2055",
   "metadata": {},
   "outputs": [],
   "source": [
    "print(adata.shape)\n",
    "sc.pp.filter_genes(adata, min_cells=10)\n",
    "print(adata.shape)\n",
    "sc.pp.filter_cells(adata, min_genes=100)\n",
    "print(adata.shape)"
   ]
  },
  {
   "cell_type": "markdown",
   "id": "bedb632f-8d69-4e2f-ac39-1d9ddd81dcbd",
   "metadata": {},
   "source": [
    "Write filtered data to <mark> GSE154826_adata_all_samples_filtered.h5ad </mark> for later use"
   ]
  },
  {
   "cell_type": "code",
   "execution_count": null,
   "id": "2d972a89-d922-40e8-a2cb-546076754e4f",
   "metadata": {},
   "outputs": [],
   "source": [
    "adata.write(\"data/GSE154826_adata_all_samples_filtered.h5ad\")"
   ]
  },
  {
   "cell_type": "markdown",
   "id": "25d0bf6e-bea2-4568-ba76-df78b238ef0c",
   "metadata": {},
   "source": [
    "### Filter cells with low counts"
   ]
  },
  {
   "cell_type": "code",
   "execution_count": null,
   "id": "4ae1f8dd-0415-4bd2-87b3-5089a7dfa1eb",
   "metadata": {},
   "outputs": [],
   "source": [
    "ax = sns.histplot(np.log(adata.X.sum(axis=1).A.T[0]), bins=100)\n",
    "plt.axvline(np.log(np.e**6.5))"
   ]
  },
  {
   "cell_type": "markdown",
   "id": "300aef88-d7f4-440f-a674-6c09a1c26797",
   "metadata": {},
   "source": [
    "It can be seen that there are 2 peaks on the histogram reflecting the distribution of couts by cells. The right peak represents cells suitable for analysis, and the left peak represents cells with too few counts.\n",
    "\n",
    "Filter cells with less than 665 counts"
   ]
  },
  {
   "cell_type": "code",
   "execution_count": null,
   "id": "7071572a-01bd-436e-bd86-c918241561c1",
   "metadata": {},
   "outputs": [],
   "source": [
    "sc.pp.filter_cells(adata, min_genes=np.e**6.5)\n",
    "print(adata.shape)"
   ]
  },
  {
   "cell_type": "code",
   "execution_count": null,
   "id": "aa9f070d-a455-4495-a853-786bac402469",
   "metadata": {},
   "outputs": [],
   "source": [
    "ax = sns.histplot(np.log(adata.X.sum(axis=1).A.T[0]), bins=100)"
   ]
  },
  {
   "cell_type": "markdown",
   "id": "26ee0bfa-9807-4d6f-bcf1-2f4c59e75955",
   "metadata": {},
   "source": [
    "### Filtering out cells with too many mitochondrial genes"
   ]
  },
  {
   "cell_type": "markdown",
   "id": "a629c848-a573-4180-80f8-8d695306f2f1",
   "metadata": {},
   "source": [
    "Cells with too high a percentage of mitochondrial genes are highly likely to be damaged and unsuitable for analysis."
   ]
  },
  {
   "cell_type": "code",
   "execution_count": null,
   "id": "36abcb2b-ec9a-48db-86a5-df697eb53404",
   "metadata": {},
   "outputs": [],
   "source": [
    "adata.var['mt'] = adata.var_names.str.startswith('MT-')  # annotate the group of mitochondrial genes as 'mt'\n",
    "sc.pp.calculate_qc_metrics(adata, qc_vars=['mt'], percent_top=None, log1p=False, inplace=True)"
   ]
  },
  {
   "cell_type": "code",
   "execution_count": null,
   "id": "efdb64dc-78d6-4150-b3c0-8026ae36062d",
   "metadata": {},
   "outputs": [],
   "source": [
    "adata.obs.head()"
   ]
  },
  {
   "cell_type": "code",
   "execution_count": null,
   "id": "7e85904e-1090-40ae-8aaf-c132b0803d5d",
   "metadata": {},
   "outputs": [],
   "source": [
    "sc.pl.violin(adata, ['n_genes_by_counts', 'total_counts', 'pct_counts_mt'], jitter = False, multi_panel=True)"
   ]
  },
  {
   "cell_type": "code",
   "execution_count": null,
   "id": "08da86d9-f09a-4ec8-a1b8-1f979fa68d36",
   "metadata": {},
   "outputs": [],
   "source": [
    "sc.pl.scatter(adata, x='total_counts', y='pct_counts_mt')\n",
    "sc.pl.scatter(adata, x='total_counts', y='n_genes_by_counts')"
   ]
  },
  {
   "cell_type": "code",
   "execution_count": null,
   "id": "a06ebcdf-fb38-4334-b5bf-d7948db30280",
   "metadata": {},
   "outputs": [],
   "source": [
    "adata = adata[adata.obs.n_genes_by_counts < 4000, :]\n",
    "adata = adata[adata.obs.pct_counts_mt < 12, :]"
   ]
  },
  {
   "cell_type": "code",
   "execution_count": null,
   "id": "3e80163f-e758-4d10-ac23-5f9a28052729",
   "metadata": {},
   "outputs": [],
   "source": [
    "sc.pl.scatter(adata, x='total_counts', y='pct_counts_mt')\n",
    "sc.pl.scatter(adata, x='total_counts', y='n_genes_by_counts')"
   ]
  },
  {
   "cell_type": "markdown",
   "id": "d208793e-1c24-4fb3-b009-a22340a507d9",
   "metadata": {},
   "source": [
    "### Find and remove doublets"
   ]
  },
  {
   "cell_type": "markdown",
   "id": "a40db6ba-c49f-49d3-954d-d11846bbadb2",
   "metadata": {},
   "source": [
    "When two cells fall into one drop on one ball with reagents, doublets are formed - 2 cells corresponding to 1 barcode. Due to the mixed signal, they can interfere with further analysis.\n",
    "\n",
    "The scrublet algorithm will be used to search for doublets. Search is perforned per datch"
   ]
  },
  {
   "cell_type": "code",
   "execution_count": null,
   "id": "2f14eaa6-7e9f-4f9e-9ec4-9747015dfcc1",
   "metadata": {},
   "outputs": [],
   "source": [
    "import scanpy.external as sce"
   ]
  },
  {
   "cell_type": "code",
   "execution_count": null,
   "id": "9ad86070-ae22-4d29-9e8a-61f5aa0ada89",
   "metadata": {
    "collapsed": true,
    "jupyter": {
     "outputs_hidden": true
    },
    "tags": []
   },
   "outputs": [],
   "source": [
    "sce.pp.scrublet(adata, batch_key = \"amp_batch_ID\")"
   ]
  },
  {
   "cell_type": "code",
   "execution_count": null,
   "id": "47b94714-7063-4406-9f02-d369c0273a9b",
   "metadata": {},
   "outputs": [],
   "source": [
    "adata = adata[adata.obs[\"doublet_score\"] < 0.2, :].copy()"
   ]
  },
  {
   "cell_type": "code",
   "execution_count": null,
   "id": "1858ecf3-37f0-41f9-81b1-11d656f3d0a3",
   "metadata": {},
   "outputs": [],
   "source": [
    "adata.shape"
   ]
  },
  {
   "cell_type": "markdown",
   "id": "60ef7d3c-168f-46fa-a020-3528066462f8",
   "metadata": {},
   "source": [
    "The following steps are required for clustering and visualization"
   ]
  },
  {
   "cell_type": "markdown",
   "id": "fa46bd3d-162a-4274-9eb2-00f6ea644f32",
   "metadata": {},
   "source": [
    "### Normalization, log-transformation, selection of the most variable genes, PCA, clustering, UMAP"
   ]
  },
  {
   "cell_type": "code",
   "execution_count": null,
   "id": "816807f4-b908-4901-bafb-f7b4a3f1ceb5",
   "metadata": {
    "tags": []
   },
   "outputs": [],
   "source": [
    "adata_prepared = adata.copy()"
   ]
  },
  {
   "cell_type": "code",
   "execution_count": null,
   "id": "c64a3f4b-f897-4eca-b8d5-e5cd57b3c6e5",
   "metadata": {},
   "outputs": [],
   "source": [
    "sc.pp.normalize_total(adata)\n",
    "sc.pp.log1p(adata)"
   ]
  },
  {
   "cell_type": "code",
   "execution_count": null,
   "id": "718e0cd3-4a59-4a33-9342-1a21d4321500",
   "metadata": {},
   "outputs": [],
   "source": [
    "adata_nocorr = adata.copy()\n",
    "sc.pp.highly_variable_genes(\n",
    "    adata_nocorr,\n",
    "    n_top_genes=3000\n",
    ")\n",
    "adata_nocorr.raw = adata_nocorr\n",
    "adata_nocorr = adata_nocorr[:, adata_nocorr.var.highly_variable]\n",
    "\n",
    "sc.pp.scale(adata_nocorr)\n",
    "sc.tl.pca(adata_nocorr, n_comps = 30)\n",
    "\n",
    "sc.pp.neighbors(\n",
    "    adata_nocorr,\n",
    "    n_pcs=30,\n",
    "    n_neighbors=20,\n",
    "    knn=True\n",
    ")\n",
    "\n",
    "sc.tl.leiden(adata_nocorr)\n",
    "\n",
    "sc.tl.umap(adata_nocorr)"
   ]
  },
  {
   "cell_type": "code",
   "execution_count": null,
   "id": "402261ac-47af-41ef-a9d3-c341559b6fe8",
   "metadata": {},
   "outputs": [],
   "source": [
    "sc.pl.umap(adata_nocorr, color=[\"leiden\", \"amp_batch_ID\", \"doublet_score\", 'MKI67'],\n",
    "           title=[\"Clusters\", \"Batch\", \"doublet_score\"], ncols=2, wspace=0.4, frameon=False, cmap=Reds)"
   ]
  },
  {
   "cell_type": "markdown",
   "id": "eacdd530-7f20-4045-b8f8-1ba734a17a2e",
   "metadata": {},
   "source": [
    "The batch effect is noticeable, as different samples are unevenly distributed across clusters"
   ]
  },
  {
   "cell_type": "markdown",
   "id": "623ef134-e935-400c-ac85-2ed2cfaaedc6",
   "metadata": {},
   "source": [
    "### Batch correction (harmony)"
   ]
  },
  {
   "cell_type": "code",
   "execution_count": null,
   "id": "12ca8c58-df60-473e-b869-cac008423930",
   "metadata": {},
   "outputs": [],
   "source": [
    "import symphonypy as sp"
   ]
  },
  {
   "cell_type": "code",
   "execution_count": null,
   "id": "bcf79e41-605e-4abd-ad53-fa4d503f5af1",
   "metadata": {},
   "outputs": [],
   "source": [
    "adata_harmony = adata.copy()\n",
    "\n",
    "sc.pp.highly_variable_genes(\n",
    "    adata_harmony,\n",
    "    n_top_genes=3000,\n",
    "    batch_key=\"amp_batch_ID\"\n",
    ")\n",
    "adata_harmony.raw = adata_harmony\n",
    "adata_harmony = adata_harmony[:, adata_harmony.var.highly_variable]\n",
    "\n",
    "sc.pp.scale(adata_harmony, max_value=10)\n",
    "sc.tl.pca(adata_harmony, n_comps = 30)\n",
    "\n",
    "sc.external.pp.harmony_integrate(adata_harmony, key=\"amp_batch_ID\", max_iter_harmony=20)\n",
    "\n",
    "#sp.pp.harmony_integrate(adata_harmony, key=\"amp_batch_ID\", max_iter_harmony=20)\n",
    "\n",
    "# `theta` отвечает за силу интеграции\n",
    "# `max_iter_harmony` отвечает за максимальное число итераций до тех пор, пока алгоритм не сойдётся\n",
    "\n",
    "sc.pp.neighbors(\n",
    "    adata_harmony,\n",
    "    use_rep=\"X_pca_harmony\",\n",
    "    n_pcs=30\n",
    ")\n",
    "\n",
    "sc.tl.leiden(adata_harmony)\n",
    "\n",
    "sc.tl.umap(adata_harmony)\n",
    "     "
   ]
  },
  {
   "cell_type": "code",
   "execution_count": null,
   "id": "f50fe70b-ada6-4f0f-819c-f6e9112f3526",
   "metadata": {},
   "outputs": [],
   "source": [
    "sc.pl.umap(adata_harmony, color=[\"leiden\", \"amp_batch_ID\", 'MKI67'],\n",
    "           title=[\"Clusters\", \"Batch\"], ncols=2, wspace=0.4, frameon=False, cmap=Reds)"
   ]
  },
  {
   "cell_type": "markdown",
   "id": "ab14a160-b15f-47c0-90a7-1d0a9414dd04",
   "metadata": {},
   "source": [
    "## Filtration of T lymphocytes (CD3+)"
   ]
  },
  {
   "cell_type": "code",
   "execution_count": null,
   "id": "f7445778-1e54-4541-ae31-5453b2702d6f",
   "metadata": {},
   "outputs": [],
   "source": [
    "sc.set_figure_params(figsize = (10, 7.5))\n",
    "sns.set_style(\"ticks\")"
   ]
  },
  {
   "cell_type": "code",
   "execution_count": null,
   "id": "073db9e7-6f09-44ad-93c3-bfa52e837cef",
   "metadata": {
    "tags": []
   },
   "outputs": [],
   "source": [
    "sc.pl.umap(adata_harmony, color=['leiden',\"CD3E\", \"EPCAM\", \"CD14\", \"MS4A1\", \"MKI67\", 'CD33', 'SPON2'], size=10, ncols=2, cmap=Reds, legend_loc = 'on data', frameon=False)"
   ]
  },
  {
   "cell_type": "markdown",
   "id": "f1e6c267-261f-43b2-a332-7d89ba6ae9b3",
   "metadata": {},
   "source": [
    "EPCAM - epithelial cell marker\n",
    "\n",
    "CD14 macrophage marker\n",
    "\n",
    "MS4A1 - B-lymphocyte marker\n",
    "\n",
    "SPON2 - NK cell marker\n",
    "\n",
    "CD33 -  myeloid cells marker\n",
    "\n",
    "MKI67 - cycling cell marker\n",
    "\n",
    "Need to keep 0, 2, 4, 10, 11, 7, 16 and 25 CD3 clusters"
   ]
  },
  {
   "cell_type": "code",
   "execution_count": null,
   "id": "b3e5ed7f-5da4-401e-b9ca-58884f2d63dc",
   "metadata": {},
   "outputs": [],
   "source": [
    "T_clusters = [\"0\", \"2\", \"4\", \"10\", \"11\", '7', \"16\", '25']\n",
    "adata_T = adata_harmony[adata_harmony.obs.leiden.isin(T_clusters)]\n",
    "\n",
    "adata_T = adata_T.raw.to_adata()\n",
    "adata_T.uns[\"log1p\"][\"base\"] = np.e\n",
    "\n",
    "sc.pp.highly_variable_genes(adata_T, n_top_genes=3000, batch_key=\"amp_batch_ID\")\n",
    "adata_T.raw = adata_T\n",
    "adata_T = adata_T[:, adata_T.var.highly_variable]\n",
    "\n",
    "sc.pp.scale(adata_T, max_value=10)\n",
    "sc.pp.pca(adata_T, n_comps=30)\n",
    "sp.pp.harmony_integrate(adata_T, key=\"amp_batch_ID\", max_iter_harmony=30, verbose=True)\n",
    "sc.pp.neighbors(adata_T, use_rep=\"X_pca_harmony\")\n",
    "sc.tl.umap(adata_T)"
   ]
  },
  {
   "cell_type": "code",
   "execution_count": null,
   "id": "67a0ac83-4245-4493-8242-f15927dc26de",
   "metadata": {},
   "outputs": [],
   "source": [
    "sc.tl.leiden(adata_T, resolution=1)"
   ]
  },
  {
   "cell_type": "code",
   "execution_count": null,
   "id": "0933b004-468c-4522-ad55-a4291280dceb",
   "metadata": {
    "collapsed": true,
    "jupyter": {
     "outputs_hidden": true
    },
    "tags": []
   },
   "outputs": [],
   "source": [
    "sc.pl.umap(adata_T, color=['leiden',\"CD3E\", \"EPCAM\", \"CD14\", \"MS4A1\", \"MKI67\", 'CD33', 'doublet_score'], size=10, ncols=2, cmap=Reds, legend_loc = 'on data', frameon=False)"
   ]
  },
  {
   "cell_type": "code",
   "execution_count": null,
   "id": "3700892d-29ce-460e-bbff-551a1d6235bf",
   "metadata": {},
   "outputs": [],
   "source": [
    "T_clusters = [\"0\", \"1\", \"2\", \"3\", \"4\", \"5\", \"6\", \"7\", \"9\", '10', \"11\", '12']\n",
    "adata_T = adata_T[adata_T.obs.leiden.isin(T_clusters)]\n",
    "\n",
    "adata_T = adata_T.raw.to_adata()\n",
    "adata_T.uns[\"log1p\"][\"base\"] = np.e\n",
    "\n",
    "sc.pp.highly_variable_genes(adata_T, n_top_genes=3000, batch_key=\"amp_batch_ID\")\n",
    "adata_T.raw = adata_T\n",
    "adata_T = adata_T[:, adata_T.var.highly_variable]\n",
    "\n",
    "sc.pp.scale(adata_T, max_value=10)\n",
    "sc.pp.pca(adata_T, n_comps=30)\n",
    "sp.pp.harmony_integrate(adata_T, key=\"amp_batch_ID\", max_iter_harmony=30, verbose=True)\n",
    "sc.pp.neighbors(adata_T, use_rep=\"X_pca_harmony\")\n",
    "sc.tl.umap(adata_T)"
   ]
  },
  {
   "cell_type": "code",
   "execution_count": null,
   "id": "dcc9d369-18d3-4a6b-b957-d9fb492280e7",
   "metadata": {},
   "outputs": [],
   "source": [
    "sc.tl.leiden(adata_T)"
   ]
  },
  {
   "cell_type": "code",
   "execution_count": null,
   "id": "690a0865-ab7c-457c-b89b-12a9e4a6a0d7",
   "metadata": {
    "collapsed": true,
    "jupyter": {
     "outputs_hidden": true
    },
    "tags": []
   },
   "outputs": [],
   "source": [
    "sc.pl.umap(adata_T, color=['leiden',\"CD3E\", \"EPCAM\", \"CD14\", \"MS4A1\", \"MKI67\", 'CD33', 'doublet_score'], size=10, ncols=2, cmap=Reds, legend_loc = 'on data', frameon=False)"
   ]
  },
  {
   "cell_type": "code",
   "execution_count": null,
   "id": "cde4164e-dcc8-451f-ae1e-00b1e833a527",
   "metadata": {},
   "outputs": [],
   "source": [
    "adata_T.shape"
   ]
  },
  {
   "cell_type": "code",
   "execution_count": null,
   "id": "40bab503-c39c-4f36-8b92-f5d9dc17516f",
   "metadata": {
    "collapsed": true,
    "jupyter": {
     "outputs_hidden": true
    },
    "tags": []
   },
   "outputs": [],
   "source": [
    "sc.pl.umap(adata_T, color=['leiden', 'MKI67', \"CD8A\", \"CD4\", 'ISG15'], size=10, ncols=2, cmap=Reds, legend_loc = 'on data', frameon=False)"
   ]
  },
  {
   "cell_type": "markdown",
   "id": "a9c6526d-013b-478c-b725-75b7e23b577c",
   "metadata": {},
   "source": [
    "9 cluster - dividing cells\n",
    "\n",
    "11 cluster - interferon signal\n",
    "\n",
    "CD4 - 0 1 3 6 7 8 12\n",
    "\n",
    "CD8 - 2 5 4 10"
   ]
  },
  {
   "cell_type": "markdown",
   "id": "f1c55c4b-3aa5-4b1a-a81a-16c83e8c7c3b",
   "metadata": {},
   "source": [
    "## Cell type annotation in groups of CD4+ and CD8+ lymphocytes"
   ]
  },
  {
   "cell_type": "markdown",
   "id": "41c2e3d2-47dc-4b18-ab77-70958e8c89b2",
   "metadata": {},
   "source": [
    "For a more precise annotation of cell types, I will annotate them separately in the **CD4+** and **CD8+** lymphocyte groups.\n",
    "\n",
    "Groups of dividing cells and cells with an interferon signal will be taken out separately"
   ]
  },
  {
   "cell_type": "code",
   "execution_count": null,
   "id": "876a2386-56ef-4b01-9877-739454d73b24",
   "metadata": {},
   "outputs": [],
   "source": [
    "cell_type_cluster_map = {'0': \"CD4\",\n",
    "                         '1': \"CD4\", \n",
    "                         '2': \"CD8\",\n",
    "                         '3': \"CD4\",\n",
    "                         '4': \"CD8\",\n",
    "                         '5': \"CD8\",\n",
    "                         '6': \"CD4\",\n",
    "                         '7': \"CD4\",\n",
    "                         '8': \"CD4\",\n",
    "                         '9': \"CD4/8-cycling\", #маркер MKI67\n",
    "                         '10': \"CD8\",\n",
    "                         '11': \"CD4/8-ISG15-IFN\",\n",
    "                         '12': \"CD4\"\n",
    "                        }"
   ]
  },
  {
   "cell_type": "code",
   "execution_count": null,
   "id": "be08dc4d-9a0e-4981-bdf1-7bc291e2b874",
   "metadata": {},
   "outputs": [],
   "source": [
    "adata_T.obs = adata_T.obs.assign(CD4_8=adata_T.obs.leiden)\n",
    "adata_T.obs[\"CD4_8\"] = adata_T.obs[\"CD4_8\"].map(cell_type_cluster_map)"
   ]
  },
  {
   "cell_type": "code",
   "execution_count": null,
   "id": "66c1849c-5634-47c8-9996-ebd8dce6ae22",
   "metadata": {},
   "outputs": [],
   "source": [
    "adata_T.obs.groupby(\"CD4_8\").count()"
   ]
  },
  {
   "cell_type": "code",
   "execution_count": null,
   "id": "13d5f2cc-eefd-4af8-a309-be24050a1a4b",
   "metadata": {},
   "outputs": [],
   "source": [
    "adata_CD4 = adata_T[adata_T.obs.CD4_8.isin(['CD4'])].copy()\n",
    "adata_CD4 = adata_CD4.raw.to_adata()\n",
    "adata_CD4.uns[\"log1p\"][\"base\"] = np.e\n",
    "\n",
    "sc.pp.highly_variable_genes(adata_CD4, n_top_genes=3000, batch_key=\"amp_batch_ID\")\n",
    "adata_CD4.raw = adata_CD4\n",
    "adata_CD4 = adata_CD4[:, adata_CD4.var.highly_variable]\n",
    "\n",
    "sc.pp.scale(adata_CD4, max_value=10)\n",
    "sc.pp.pca(adata_CD4, n_comps=30)\n",
    "sc.external.pp.harmony_integrate(adata_CD4, key=\"amp_batch_ID\", max_iter_harmony=30, verbose=True)\n",
    "sc.pp.neighbors(adata_CD4, use_rep=\"X_pca_harmony\")\n",
    "sc.tl.umap(adata_CD4)\n",
    "\n",
    "sc.tl.leiden(adata_CD4)"
   ]
  },
  {
   "cell_type": "code",
   "execution_count": null,
   "id": "1053eccf-d828-4ded-b8ac-5254aa175425",
   "metadata": {
    "tags": []
   },
   "outputs": [],
   "source": [
    "sc.pl.umap(adata_CD4, color=['leiden'], size=15, cmap=Reds, legend_loc = 'on data')"
   ]
  },
  {
   "cell_type": "code",
   "execution_count": null,
   "id": "28867c51-55e1-49a6-8939-1110f9e11643",
   "metadata": {},
   "outputs": [],
   "source": [
    "sc.tl.leiden(adata_CD4, resolution=1.5)"
   ]
  },
  {
   "cell_type": "code",
   "execution_count": null,
   "id": "2d05e1fb-5c25-4f1e-9a2a-c42013044cea",
   "metadata": {
    "tags": []
   },
   "outputs": [],
   "source": [
    "sc.pl.umap(adata_CD4, color=['leiden', 'MKI67', \"CD8A\", \"CD4\"], size=15, ncols = 2, cmap=Reds, legend_loc = 'on data')"
   ]
  },
  {
   "cell_type": "markdown",
   "id": "805fb5a9-45d7-4587-8382-c9e54e4d23e6",
   "metadata": {},
   "source": [
    "Cells from cluster 10 obviously CD8+"
   ]
  },
  {
   "cell_type": "code",
   "execution_count": null,
   "id": "65e6420d-5c4e-465a-9ddf-2959e827c643",
   "metadata": {},
   "outputs": [],
   "source": [
    "adata_T.obs.loc[adata_CD4.obs.index[adata_CD4.obs.leiden.isin(['15', '13', '16', '18', '7'])], 'CD4_8'] = 'CD8'"
   ]
  },
  {
   "cell_type": "markdown",
   "id": "057d6e57-8328-4e81-8780-cf0483236490",
   "metadata": {},
   "source": [
    "#### CD4 annotation"
   ]
  },
  {
   "cell_type": "code",
   "execution_count": null,
   "id": "38e574d8-c5f4-48e2-bb3c-52d0d11ea26c",
   "metadata": {},
   "outputs": [],
   "source": [
    "adata_CD4 = adata_T[adata_T.obs.CD4_8.isin(['CD4'])].copy()\n",
    "adata_CD4 = adata_CD4.raw.to_adata()\n",
    "adata_CD4.uns[\"log1p\"][\"base\"] = np.e\n",
    "\n",
    "sc.pp.highly_variable_genes(adata_CD4, n_top_genes=3000, batch_key=\"amp_batch_ID\")\n",
    "adata_CD4.raw = adata_CD4\n",
    "adata_CD4 = adata_CD4[:, adata_CD4.var.highly_variable]\n",
    "\n",
    "sc.pp.scale(adata_CD4, max_value=10)\n",
    "sc.pp.pca(adata_CD4, n_comps=30)\n",
    "sc.external.pp.harmony_integrate(adata_CD4, key=\"amp_batch_ID\", max_iter_harmony=30, verbose=True)\n",
    "sc.pp.neighbors(adata_CD4, use_rep=\"X_pca_harmony\")\n",
    "sc.tl.umap(adata_CD4)\n",
    "\n",
    "sc.tl.leiden(adata_CD4)"
   ]
  },
  {
   "cell_type": "code",
   "execution_count": null,
   "id": "d7788076-8ed7-4c44-a38a-5106ccf3d798",
   "metadata": {
    "tags": []
   },
   "outputs": [],
   "source": [
    "sc.pl.umap(adata_CD4, color=['leiden', 'MKI67', \"CD8A\", \"CD4\"], size=15, ncols = 2, cmap=Reds, legend_loc = 'on data')"
   ]
  },
  {
   "cell_type": "code",
   "execution_count": null,
   "id": "814fdd92-95bc-48b8-935a-8e58384cbdc8",
   "metadata": {},
   "outputs": [],
   "source": [
    "markers = 'FCGR3A FGFBP2 CX3CR1 NKG7 KLF2 TNFSF9 CRTAM GZMK ITM2C CMC1 XCL1 KLRC1 XCL2 GZMH LAYN GZMB VCAM1 KLRD1 SLC4A10 CEBPD KLRB1 IFNGR1 CCL20 TRDC TRDV1 HIST1H4C TOP2A MKI67 TUBB MCM5 TYMS ISG15 MX1 IFI44L IFIT1 IFI6 SELL CCR7 SOCS3 IL7R ANXA1 HSPH1 DNAJB1 NR4A1 HSPA1A HSPA6 CD69 CD40LG FOS TNF GZMA PLIN2 SESN1 CH25H CXCL13 PTPN13 ZBED2 IL21 IL32 CTLA4 FOXP3 IL2RA MAL PMAIP1 ICA1 MAGEH1 PMCH CCR8 TNFRSF4 TNFRSF18'.split()"
   ]
  },
  {
   "cell_type": "code",
   "execution_count": null,
   "id": "fcd6f757-cb2f-4f6a-b679-ba8b2d5c540e",
   "metadata": {},
   "outputs": [],
   "source": [
    "sc.pl.heatmap(adata_CD4, markers, groupby='leiden', swap_axes=True, show_gene_labels=True)"
   ]
  },
  {
   "cell_type": "code",
   "execution_count": null,
   "id": "465e7abf-a16e-4004-8cea-e3cd4b60b350",
   "metadata": {},
   "outputs": [],
   "source": [
    "markers_from_article_CD4 = ['MKI67', \"CD8A\", \"CD4\", \"IL7R\", \"CD69\", \n",
    "                            \"SELL\", \"HSPH1\", \"GZMA\", \n",
    "                            \"MAL\", \"TNFRSF18\", \"IL32\", \"ISG15\", \"SESN1\", \"CCR8\"]"
   ]
  },
  {
   "cell_type": "code",
   "execution_count": null,
   "id": "bb5ecb4f-47c6-4e8f-af08-292d58ffd287",
   "metadata": {
    "tags": []
   },
   "outputs": [],
   "source": [
    "sc.pl.umap(adata_CD4, color=['leiden']+markers_from_article_CD4, size=15, ncols = 2, cmap=Reds, legend_loc = 'on data')"
   ]
  },
  {
   "cell_type": "code",
   "execution_count": null,
   "id": "62093b99-dde6-442b-80d3-984ed799ce97",
   "metadata": {},
   "outputs": [],
   "source": [
    "cell_type_cluster_map_CD4 = {    '0': \"CD4-GZMA_effectors\",  \n",
    "                                 '1': \"CD4-GZMA_effectors\", \n",
    "                                 '2': \"CD4-SELL_naive\",\n",
    "                                 '3': \"CD4-IL7R_memory\",\n",
    "                                 '4': \"CD4-CCR8_Tregs\",\n",
    "                                 '5': \"CD4-HSPH1_memory\",\n",
    "                                 '6': \"CD4-CD69_activated_memory\", \n",
    "                                 '7': \"CD4-TNFRSF18_Tfh\", \n",
    "                                 '8': \"CD4-SESN1_Tfh\", \n",
    "                                 '9': \"CD4-MAL_Tregs\",\n",
    "                                 '10': \"CD4-IL7R_memory\",\n",
    "                                 '11': \"CD4-HSPH1_memory\"\n",
    "                        }"
   ]
  },
  {
   "cell_type": "code",
   "execution_count": null,
   "id": "b0467767-4df5-4dd3-8d80-6f7f0a9183a5",
   "metadata": {
    "tags": []
   },
   "outputs": [],
   "source": [
    "sc.tl.rank_genes_groups(adata_CD4, groupby=\"leiden\")\n",
    "sc.pl.rank_genes_groups(adata_CD4, n_genes=10, sharey=False, ncols = 3,  fontsize=20)"
   ]
  },
  {
   "cell_type": "code",
   "execution_count": null,
   "id": "603bd924-0aa2-47eb-a770-754bda4baaf5",
   "metadata": {},
   "outputs": [],
   "source": [
    "adata_CD4.obs = adata_CD4.obs.assign(cell_type=adata_CD4.obs.leiden)\n",
    "adata_CD4.obs[\"cell_type\"] = adata_CD4.obs[\"cell_type\"].map(cell_type_cluster_map_CD4)"
   ]
  },
  {
   "cell_type": "code",
   "execution_count": null,
   "id": "0df9a568-7b24-4035-b773-c2812237f351",
   "metadata": {
    "tags": []
   },
   "outputs": [],
   "source": [
    "adata_CD4.obs"
   ]
  },
  {
   "cell_type": "markdown",
   "id": "12c4b3a9-e575-4221-b8eb-dd38ce5d3d27",
   "metadata": {},
   "source": [
    "#### CD8 annotation"
   ]
  },
  {
   "cell_type": "code",
   "execution_count": null,
   "id": "9ba973f6-7e51-40f8-a723-496146bb1dc5",
   "metadata": {},
   "outputs": [],
   "source": [
    "adata_CD8 = adata_T[adata_T.obs.CD4_8.isin(['CD8'])].copy()\n",
    "adata_CD8 = adata_CD8[adata_CD8.obs.amp_batch_ID != '231'].copy()\n",
    "adata_CD8 = adata_CD8.raw.to_adata()\n",
    "adata_CD8.uns[\"log1p\"][\"base\"] = np.e\n",
    "\n",
    "\n",
    "sc.pp.highly_variable_genes(adata_CD8, n_top_genes=3000, batch_key=\"amp_batch_ID\")\n",
    "adata_CD8.raw = adata_CD8\n",
    "adata_CD8 = adata_CD8[:, adata_CD8.var.highly_variable]\n",
    "\n",
    "sc.pp.scale(adata_CD8, max_value=10)\n",
    "sc.pp.pca(adata_CD8, n_comps=30)\n",
    "sc.external.pp.harmony_integrate(adata_CD8, key=\"amp_batch_ID\", max_iter_harmony=30, verbose=True)\n",
    "sc.pp.neighbors(adata_CD8, use_rep=\"X_pca_harmony\")\n",
    "sc.tl.umap(adata_CD8)\n",
    "\n",
    "sc.tl.leiden(adata_CD8)"
   ]
  },
  {
   "cell_type": "code",
   "execution_count": null,
   "id": "f7aa526d-4ee1-4cf2-91c5-212e881e77aa",
   "metadata": {},
   "outputs": [],
   "source": [
    "sc.pl.umap(adata_CD8, color=['leiden'], size=20, cmap=Reds, legend_loc = 'on data')"
   ]
  },
  {
   "cell_type": "code",
   "execution_count": null,
   "id": "cb711130-7774-4338-89ab-18db576d40cd",
   "metadata": {},
   "outputs": [],
   "source": [
    "sc.pl.heatmap(adata_CD8, markers, groupby='leiden', swap_axes=True, show_gene_labels=True)"
   ]
  },
  {
   "cell_type": "code",
   "execution_count": null,
   "id": "6ca7be19-3913-4f37-859e-c686fdbb8451",
   "metadata": {
    "tags": []
   },
   "outputs": [],
   "source": [
    "markers_from_article_CD8 = ['MKI67', \"CD8A\", \"CD4\", \"CD3E\", 'SELL', \"GZMK\", \"KLF2\", \"SLC4A10\", \n",
    "                        \"XCL1\", \"HSPH1\", \"LAYN\", \n",
    "                        \"GZMH\", \"FCGR3A\", \"TRDC\"]"
   ]
  },
  {
   "cell_type": "code",
   "execution_count": null,
   "id": "a3883088-5d7d-4ce5-8489-7f0231323c6d",
   "metadata": {
    "tags": []
   },
   "outputs": [],
   "source": [
    "sc.pl.umap(adata_CD8, color=['leiden']+markers_from_article_CD8, size=15, ncols = 2, cmap=Reds, legend_loc = 'on data')"
   ]
  },
  {
   "cell_type": "code",
   "execution_count": null,
   "id": "d581dadd-f7b2-4b0a-bdd8-dec960dde71c",
   "metadata": {},
   "outputs": [],
   "source": [
    "cell_type_cluster_map_CD8 = {    '0': \"CD8-XCL1_resident_precursors\",\n",
    "                                 '1': \"CD8-FCGR3A_effectors\", \n",
    "                                 '2': \"CD8-GZMK_circulating_precursors\",\n",
    "                                 '3': \"CD8-SELL_naive\",\n",
    "                                 '4': \"CD8-KLF2_circulating_precursors\",\n",
    "                                 '5': \"CD8-LAYN_terminally_differentiated\",\n",
    "                                 '6': \"CD8-FCGR3A_effectors\", \n",
    "                                 '7': \"CD8-SLC4A10_MAIT\",\n",
    "                                 '8': \"CD8-GZMH_transitional\",\n",
    "                                 '9': \"CD4-HSPH1_memory\",\n",
    "                                 '10': \"CD8-KLF2_circulating_precursors\",\n",
    "                                 '11': \"CD8-TRDC-gamma_delta\"\n",
    "                        }"
   ]
  },
  {
   "cell_type": "code",
   "execution_count": null,
   "id": "65962599-ad34-457f-a30c-03fec5ebdd99",
   "metadata": {},
   "outputs": [],
   "source": [
    "adata_CD8.obs = adata_CD8.obs.assign(cell_type=adata_CD8.obs.leiden)\n",
    "adata_CD8.obs[\"cell_type\"] = adata_CD8.obs[\"cell_type\"].map(cell_type_cluster_map_CD8)"
   ]
  },
  {
   "cell_type": "markdown",
   "id": "b58bed06-a514-4086-87b0-9224f98f1379",
   "metadata": {},
   "source": [
    "#### Write the names of cell types in the original dataset in the cell_type column"
   ]
  },
  {
   "cell_type": "code",
   "execution_count": null,
   "id": "a58c7188-2c2a-4bc6-a2bd-932c3740b69b",
   "metadata": {},
   "outputs": [],
   "source": [
    "adata_T.obs = adata_T.obs.merge(pd.concat([adata_CD8.obs.cell_type, adata_CD4.obs.cell_type]), how = \"left\", left_index=True, right_index=True)\n",
    "adata_T.obs['cell_type'] = adata_T.obs['cell_type'].fillna(adata_T.obs.pop('CD4_8'))\n",
    "adata_T.obs"
   ]
  },
  {
   "cell_type": "code",
   "execution_count": null,
   "id": "c981662b-36f5-4549-a041-5eed9911a071",
   "metadata": {},
   "outputs": [],
   "source": [
    "sc.pl.umap(adata_T, color=['leiden', \"cell_type\"], size=10, cmap=Reds, ncols = 2, legend_loc = 'right margin')"
   ]
  },
  {
   "cell_type": "markdown",
   "id": "ad7f7b95-1dfc-43ff-b9d1-6930253560fe",
   "metadata": {},
   "source": [
    "## TCR analysis"
   ]
  },
  {
   "cell_type": "markdown",
   "id": "e74df7fd-9ba8-4aa5-834d-11533afc3b98",
   "metadata": {},
   "source": [
    "Create summary about the Immune cell-receptor compositions and visualise"
   ]
  },
  {
   "cell_type": "code",
   "execution_count": null,
   "id": "c7186d7d-478b-44e7-9556-702836d04c1e",
   "metadata": {},
   "outputs": [],
   "source": [
    "ir.tl.chain_qc(adata_T)"
   ]
  },
  {
   "cell_type": "code",
   "execution_count": null,
   "id": "5b33462f-3a45-458e-a537-065e272b4f89",
   "metadata": {},
   "outputs": [],
   "source": [
    "ax = ir.pl.group_abundance(adata_T, groupby=\"chain_pairing\")"
   ]
  },
  {
   "cell_type": "markdown",
   "id": "a322d50b-e98f-42b4-8c65-1e5f9b4833a8",
   "metadata": {},
   "source": [
    "### Filter cells based on TCR"
   ]
  },
  {
   "cell_type": "code",
   "execution_count": null,
   "id": "7322f720-dbe8-469d-a82f-bf4de6d2ae4c",
   "metadata": {},
   "outputs": [],
   "source": [
    "adata_TCR_filtered = adata_T[adata_T.obs[\"chain_pairing\"] != \"multichain\", :].copy()\n",
    "adata_TCR_filtered = adata_TCR_filtered[~adata_TCR_filtered.obs[\"chain_pairing\"].isin([\"orphan VDJ\", \"orphan VJ\", 'no IR', 'ambiguous']), :].copy()"
   ]
  },
  {
   "cell_type": "code",
   "execution_count": null,
   "id": "d2b8fbe8-15b4-4b4f-80dd-e6af34aa1eba",
   "metadata": {},
   "outputs": [],
   "source": [
    "ax = ir.pl.group_abundance(adata_TCR_filtered, groupby=\"chain_pairing\", target_col=\"patient\")"
   ]
  },
  {
   "cell_type": "markdown",
   "id": "ab9a49e8-b373-420e-8a1d-b423a87348eb",
   "metadata": {},
   "source": [
    "### Find clonotypes"
   ]
  },
  {
   "cell_type": "code",
   "execution_count": null,
   "id": "c77c194b-9b2c-451b-83bd-4e96fe824afe",
   "metadata": {},
   "outputs": [],
   "source": [
    "ir.pp.ir_dist(adata_TCR_filtered)\n",
    "ir.tl.define_clonotypes(adata_TCR_filtered, receptor_arms=\"all\", dual_ir=\"primary_only\")"
   ]
  },
  {
   "cell_type": "code",
   "execution_count": null,
   "id": "bcab0369-3651-4334-951a-eb6502c9fb58",
   "metadata": {
    "tags": []
   },
   "outputs": [],
   "source": [
    "adata_TCR_filtered.obs"
   ]
  },
  {
   "cell_type": "markdown",
   "id": "14fe8238-971b-4410-94f4-215494a58973",
   "metadata": {},
   "source": [
    "Write infornation abour TCRs in dataset with all T cells"
   ]
  },
  {
   "cell_type": "code",
   "execution_count": null,
   "id": "1b86abbc-bc81-41c4-8f65-63e61dd3e40c",
   "metadata": {},
   "outputs": [],
   "source": [
    "adata_T.obs = adata_T.obs.merge(adata_TCR_filtered.obs[['clone_id','clone_id_size']], how = \"left\", left_index=True, right_index=True)"
   ]
  },
  {
   "cell_type": "code",
   "execution_count": null,
   "id": "50542f1b-245f-4533-aa5c-7cd99d5dd950",
   "metadata": {},
   "outputs": [],
   "source": [
    "adata_T.obs"
   ]
  },
  {
   "cell_type": "code",
   "execution_count": null,
   "id": "2cc2ae9d-6049-4dfa-a3eb-738b9bd69083",
   "metadata": {},
   "outputs": [],
   "source": [
    "sc.pl.umap(adata_T, color=[\"clone_id_size\", 'MKI67', \"cell_type\"], size = 15, cmap = Reds, ncols = 2)"
   ]
  },
  {
   "cell_type": "code",
   "execution_count": null,
   "id": "c05af52f-1603-4554-8e8b-920aa9c21ad5",
   "metadata": {},
   "outputs": [],
   "source": [
    "sc.set_figure_params(figsize = (20, 15))"
   ]
  },
  {
   "cell_type": "markdown",
   "id": "a4718de0-341b-4821-bada-4ef5c8063313",
   "metadata": {},
   "source": [
    "### Creating a table with the probabilities of hitting a particular cell type\n",
    "(in a clonotype from 10 cells and at least one of the cells is in a cluster of dividing cells)"
   ]
  },
  {
   "cell_type": "code",
   "execution_count": null,
   "id": "7baa400e-237e-4966-bb36-95a22299ae35",
   "metadata": {},
   "outputs": [],
   "source": [
    "clonotypes_10 = adata_T.obs[['cell_type', 'clone_id','clone_id_size']][adata_T.obs[['cell_type', 'clone_id','clone_id_size']][\"clone_id_size\"] > 10].sort_values('clone_id')\n",
    "clonotypes_10"
   ]
  },
  {
   "cell_type": "code",
   "execution_count": null,
   "id": "7d52154b-7438-47ac-a771-3e1dbde9e1fd",
   "metadata": {},
   "outputs": [],
   "source": [
    "clonotypes_10_cycling = clonotypes_10[clonotypes_10.clone_id.isin(clonotypes_10[clonotypes_10['cell_type']=='CD4/8-cycling'].clone_id)]\n",
    "clonotypes_10_cycling"
   ]
  },
  {
   "cell_type": "code",
   "execution_count": null,
   "id": "46287f28-ef2f-4102-b1ed-f1370938bc1c",
   "metadata": {},
   "outputs": [],
   "source": [
    "cell_types = list(set(clonotypes_10_cycling.cell_type))\n",
    "cell_types.remove('CD4/8-cycling')\n",
    "cell_types = list(set(clonotypes_10_cycling.columns)) + ['CD4/8-cycling'] + cell_types\n",
    "cell_types.remove('cell_type')"
   ]
  },
  {
   "cell_type": "code",
   "execution_count": null,
   "id": "59e5ca5f-35c0-4d1f-93e9-d334a4c759f4",
   "metadata": {
    "tags": []
   },
   "outputs": [],
   "source": [
    "clonotype_cell_type = pd.DataFrame(columns = cell_types)\n",
    "for clone in list(set(clonotypes_10_cycling.clone_id)):\n",
    "    clonotype_cell_type.loc[len(clonotype_cell_type.index)] = np.zeros(len(cell_types))\n",
    "    temp = clonotypes_10_cycling[clonotypes_10_cycling.clone_id == clone]\n",
    "    \n",
    "    clonotype_cell_type['clone_id_size'][len(clonotype_cell_type.index)-1] = temp.clone_id_size[0]\n",
    "    clonotype_cell_type['clone_id'][len(clonotype_cell_type.index)-1] = temp.clone_id[0]\n",
    "    \n",
    "    for cell in temp.index:\n",
    "        clonotype_cell_type[temp.loc[cell].cell_type][len(clonotype_cell_type.index)-1]+= 1\n",
    "    \n",
    "clonotype_cell_type    "
   ]
  },
  {
   "cell_type": "code",
   "execution_count": null,
   "id": "f5303b5a-8615-48ae-a7c2-a143a89ab02f",
   "metadata": {
    "tags": []
   },
   "outputs": [],
   "source": [
    "clonotype_cell_type_prop = clonotype_cell_type.copy()\n",
    "for ct in clonotype_cell_type_prop.columns[3:]:\n",
    "    clonotype_cell_type_prop[ct] = clonotype_cell_type_prop[ct] / (clonotype_cell_type_prop['clone_id_size'] - clonotype_cell_type_prop['CD4/8-cycling'])\n",
    "    \n",
    "clonotype_cell_type_prop"
   ]
  },
  {
   "cell_type": "code",
   "execution_count": null,
   "id": "f8448458-06db-4196-b4bc-613330a77d98",
   "metadata": {},
   "outputs": [],
   "source": [
    "clonotype_cell_type_prop.to_csv(\"data/GSE154826_cell_type_ver.csv\")"
   ]
  },
  {
   "cell_type": "code",
   "execution_count": null,
   "id": "a1f5bd14-7ae4-448e-8679-6ddf9cb193e4",
   "metadata": {
    "tags": []
   },
   "outputs": [],
   "source": [
    "sc.pl.umap(adata_T, color=\"cell_type\", show=False, size=30)\n",
    "sc.pl.umap(\n",
    "    adata_T,\n",
    "    color=\"clone_id\",\n",
    "    groups = list(clonotype_cell_type.clone_id),\n",
    "    palette=cycler(color=mpl_cm.Dark2_r.colors), \n",
    "    size=80\n",
    ")"
   ]
  },
  {
   "cell_type": "markdown",
   "id": "510eedd6-ebd9-4185-8807-9a17c0c28089",
   "metadata": {},
   "source": [
    "## Preparing a dataset for validation"
   ]
  },
  {
   "cell_type": "markdown",
   "id": "ea6e7dbe-65c5-47df-83f0-b1ba257db615",
   "metadata": {},
   "source": [
    "It is necessary to make a dataset with counts and information about cell types, clonotypes, and so on.\n",
    "\n",
    "**adata_T.obs** has the necessary information, and **adata** (downloaded from data/GSE162500_adata_all_samples_filtered.h5ad) has count information, but it contains data on poor-quality UMI and non-T cells"
   ]
  },
  {
   "cell_type": "code",
   "execution_count": null,
   "id": "040fc324-6db0-4e2c-84e8-297aa1a0bc0a",
   "metadata": {},
   "outputs": [],
   "source": [
    "#индексы нужных клеток\n",
    "adata_T.obs.index"
   ]
  },
  {
   "cell_type": "code",
   "execution_count": null,
   "id": "b68f34c6-7495-47a2-9a7a-927ecf16c4f1",
   "metadata": {},
   "outputs": [],
   "source": [
    "adata = sc.read(\"data/GSE154826_adata_all_samples_filtered.h5ad\")"
   ]
  },
  {
   "cell_type": "markdown",
   "id": "541c4692-cc15-4ebb-acb3-a18b89551a0a",
   "metadata": {},
   "source": [
    "Keep only the good T cells"
   ]
  },
  {
   "cell_type": "code",
   "execution_count": null,
   "id": "d519926c-ad65-4ab0-b0e6-6f4226a75231",
   "metadata": {},
   "outputs": [],
   "source": [
    "adata_val = adata[adata.obs.index.isin(adata_T.obs.index)]"
   ]
  },
  {
   "cell_type": "code",
   "execution_count": null,
   "id": "df5787a5-477d-44a5-9c6e-e2b45225cfd5",
   "metadata": {},
   "outputs": [],
   "source": [
    "adata_val.obs"
   ]
  },
  {
   "cell_type": "code",
   "execution_count": null,
   "id": "5f0b9713-e7b5-4772-9843-f5abccce647c",
   "metadata": {},
   "outputs": [],
   "source": [
    "adata_val.obs = adata_T.obs"
   ]
  },
  {
   "cell_type": "code",
   "execution_count": null,
   "id": "4fd64046-27b5-4fc2-afdf-1f65db03a214",
   "metadata": {},
   "outputs": [],
   "source": [
    "adata_val.obs"
   ]
  },
  {
   "cell_type": "code",
   "execution_count": null,
   "id": "96993cca-d098-48ca-a6f1-3167b9dc18e4",
   "metadata": {},
   "outputs": [],
   "source": [
    "adata_val.write(\"data/GSE154826_for_validation.h5ad\")"
   ]
  }
 ],
 "metadata": {
  "kernelspec": {
   "display_name": "Python 3 (ipykernel)",
   "language": "python",
   "name": "python3"
  },
  "language_info": {
   "codemirror_mode": {
    "name": "ipython",
    "version": 3
   },
   "file_extension": ".py",
   "mimetype": "text/x-python",
   "name": "python",
   "nbconvert_exporter": "python",
   "pygments_lexer": "ipython3",
   "version": "3.10.5"
  }
 },
 "nbformat": 4,
 "nbformat_minor": 5
}
