{
 "cells": [
  {
   "cell_type": "markdown",
   "id": "da72afc0-f6c0-4b33-934f-930414f3d6ca",
   "metadata": {},
   "source": [
    "# GSE162500 dataset analysis"
   ]
  },
  {
   "cell_type": "markdown",
   "id": "f2b43564-e915-4a31-800f-df6934e08948",
   "metadata": {},
   "source": [
    "## Loading packages, setting image parameters"
   ]
  },
  {
   "cell_type": "code",
   "execution_count": null,
   "id": "dd943ae9-3cea-438f-99e0-02ad027dba2e",
   "metadata": {},
   "outputs": [],
   "source": [
    "import numpy as np\n",
    "import pandas as pd\n",
    "import scanpy as sc\n",
    "import scirpy as ir\n",
    "from matplotlib import pyplot as plt, cm as mpl_cm\n",
    "from cycler import cycler\n",
    "\n",
    "\n",
    "import seaborn as sns\n",
    "\n",
    "from glob import glob\n",
    "import tarfile\n",
    "import anndata\n",
    "import warnings\n",
    "\n",
    "import scvelo as scv\n",
    "\n",
    "# Additional functions\n",
    "sns.set_style(\"ticks\")\n",
    "\n",
    "def beautiful_cmap(initial_cmap=\"Reds\", grey_intensity=0.2, color_intencity=0.1):\n",
    "    from matplotlib import cm\n",
    "    from matplotlib.colors import ListedColormap\n",
    "    import numpy as np\n",
    "    \n",
    "    cm_color = cm.get_cmap(initial_cmap, 128)\n",
    "    cm_grey = cm.get_cmap(\"Greys\", 128)\n",
    "    \n",
    "    c = ListedColormap(\n",
    "        np.vstack(\n",
    "            (cm_grey(np.linspace(grey_intensity, grey_intensity, 1)),\n",
    "             cm_color(np.linspace(color_intencity, 1, 128)))\n",
    "    ))\n",
    "    \n",
    "    return c\n",
    "\n",
    "Reds = beautiful_cmap()"
   ]
  },
  {
   "cell_type": "markdown",
   "id": "808a8d39-0d68-4a67-bd71-79d27dda99d9",
   "metadata": {},
   "source": [
    "## Loading data"
   ]
  },
  {
   "cell_type": "markdown",
   "id": "533c44d3-6247-46bd-afcc-224a9bd39f64",
   "metadata": {},
   "source": [
    "Download and unzip the datasets in advance as specified in the <mark> GSE162500_loading_data.md </mark>."
   ]
  },
  {
   "cell_type": "markdown",
   "id": "413ffd14-1fd6-4651-9d79-0d4043e1ea71",
   "metadata": {},
   "source": [
    "Create list of paths to load all samples"
   ]
  },
  {
   "cell_type": "code",
   "execution_count": null,
   "id": "4a7cbb51-77b2-47a1-8eb5-6c46ef27b8d2",
   "metadata": {},
   "outputs": [],
   "source": [
    "samples0 = {\n",
    "    \"P34\": {\"source\": [\"Tumor\"]},\n",
    "    \"P35\": {\"source\": [\"Tumor\"]},\n",
    "    \"P42\": {\"source\": [\"Tumor\"]},\n",
    "    \"P43\": {\"source\": [\"Tumor\"]},\n",
    "    \"P46\": {\"source\": [\"Tumor\"]},}\n",
    "samples1 = {\n",
    "    \"P47\": {\"source\": [\"Tumor\"]},\n",
    "    \"P55\": {\"source\": [\"Tumor\"]},\n",
    "    \"P57\": {\"source\": [\"Tumor\", \"Blood\"]},}\n",
    "samples2 = {\n",
    "    \"P58\": {\"source\": [\"Tumor\", \"Blood\"]},\n",
    "    \"P60\": {\"source\": [\"Tumor\", \"Juxta\", \"Blood\"]},\n",
    "    \"P61\": {\"source\": [\"Tumor\", \"Juxta\", \"Blood\"]},}   "
   ]
  },
  {
   "cell_type": "code",
   "execution_count": null,
   "id": "ae3011a6-f72e-45a5-bbdb-2009501e22bc",
   "metadata": {},
   "outputs": [],
   "source": [
    "paths = []\n",
    "for sample, sample_meta in samples0.items():\n",
    "    for s in sample_meta['source']:\n",
    "        gex_file = f\"data/GSE162500_RAW/{sample}_{s}_raw_feature_bc_matrix\"\n",
    "        tcr_file = \"No annotation\"\n",
    "        paths.append((sample, s, gex_file, tcr_file))\n",
    "        \n",
    "for sample, sample_meta in samples1.items():\n",
    "    for s in sample_meta['source']:\n",
    "        gex_file = f\"data/GSE162500_RAW/{sample}_{s}_raw_feature_bc_matrix\"\n",
    "        tcr_file = f\"data/GSE162500_RAW/{sample}_{s}_filtered_contig_annotations.csv\"\n",
    "        paths.append((sample, s, gex_file, tcr_file))\n",
    "        \n",
    "for sample, sample_meta in samples2.items():\n",
    "    for s in sample_meta['source']:\n",
    "        gex_file = f\"data/GSE162500_RAW/{sample}_{s}_filtered_feature_bc_matrix\"\n",
    "        tcr_file = f\"data/GSE162500_RAW/{sample}_{s}_filtered_contig_annotations.csv\"\n",
    "        paths.append((sample, s, gex_file, tcr_file))"
   ]
  },
  {
   "cell_type": "markdown",
   "id": "2edf6195-8802-4284-b1da-c177e00223ad",
   "metadata": {},
   "source": [
    "Load all samples to adatas list. Read dataframes with TCR information if needed "
   ]
  },
  {
   "cell_type": "code",
   "execution_count": null,
   "id": "301e4aa1-9c68-42ba-b550-71b417b4a1fa",
   "metadata": {
    "tags": []
   },
   "outputs": [],
   "source": [
    "adatas = []\n",
    "for patient, s, gex_file, tcr_file in paths:\n",
    "    print(patient, s)\n",
    "    adata = sc.read_10x_mtx(gex_file)\n",
    "    if tcr_file != \"No annotation\":\n",
    "        adata_tcr = ir.io.read_10x_vdj(tcr_file)\n",
    "        ir.pp.merge_with_ir(adata, adata_tcr)\n",
    "    adata.obs[\"patient\"] = patient\n",
    "    adata.obs[\"source\"] = s\n",
    "    adata.obs[\"sample\"] = f\"{patient}_{s}\"\n",
    "    adata.obs.index = [barcode.split(\"-\")[0] + f\":{patient}_{s}\" for barcode in adata.obs.index]\n",
    "    adata.var_names_make_unique()\n",
    "    adatas.append(adata)"
   ]
  },
  {
   "cell_type": "markdown",
   "id": "1f2d0d0b-97a8-4d3e-9288-89aae63d2252",
   "metadata": {},
   "source": [
    "Merge anndata objects using concat (**join = 'outer'** to take all columns)"
   ]
  },
  {
   "cell_type": "code",
   "execution_count": null,
   "id": "2f4fd697-a637-40a2-b208-113d9759b52c",
   "metadata": {},
   "outputs": [],
   "source": [
    "# Merge anndata objects\n",
    "adata = anndata.concat(adatas, join = 'outer')"
   ]
  },
  {
   "cell_type": "code",
   "execution_count": null,
   "id": "ac0dc5d6-ec52-43f6-b7f0-5abdcee159b7",
   "metadata": {},
   "outputs": [],
   "source": [
    "adata.obs"
   ]
  },
  {
   "cell_type": "markdown",
   "id": "953b7b69-9518-42bf-b70e-d52fe1437aaa",
   "metadata": {},
   "source": [
    "## Preparing data for analysis"
   ]
  },
  {
   "cell_type": "markdown",
   "id": "f12156a7-212a-421a-9be4-0c5acaa1cdc8",
   "metadata": {},
   "source": [
    "Filtering out genes found in less than 10 cells.\n",
    "\n",
    "Filtering obviously bad cells (if the cell contains less than 100 counts, most likely this barcode corresponds to a drop into which the cell did not fall, but extracellular DNA was sequenced)"
   ]
  },
  {
   "cell_type": "code",
   "execution_count": null,
   "id": "4a281b5e-ab69-400b-8016-04879f874eb6",
   "metadata": {},
   "outputs": [],
   "source": [
    "print(adata.shape)\n",
    "sc.pp.filter_genes(adata, min_cells=10)\n",
    "print(adata.shape)\n",
    "sc.pp.filter_cells(adata, min_genes=100)\n",
    "print(adata.shape)"
   ]
  },
  {
   "cell_type": "markdown",
   "id": "0f67e027-a1fa-4392-aa15-c8ce028ce6a3",
   "metadata": {},
   "source": [
    "Write filtered data to <mark> GSE162500_adata_all_samples_filtered.h5ad </mark> for later use"
   ]
  },
  {
   "cell_type": "code",
   "execution_count": null,
   "id": "b809c33b-df9a-4189-b488-5b183aa9757e",
   "metadata": {},
   "outputs": [],
   "source": [
    "adata.write(\"data/GSE162500_adata_all_samples_filtered.h5ad\")"
   ]
  },
  {
   "cell_type": "markdown",
   "id": "f1ac9b90-6b76-4ba4-9f86-8a3b0a426fc3",
   "metadata": {},
   "source": [
    "### Filter cells with low counts"
   ]
  },
  {
   "cell_type": "code",
   "execution_count": null,
   "id": "1a481b43-40cd-4947-a3a3-e728c82cba6c",
   "metadata": {},
   "outputs": [],
   "source": [
    "ax = sns.histplot(np.log(adata.X.sum(axis=1).A.T[0]), bins=100)\n",
    "plt.axvline(np.log(np.e**6.5))"
   ]
  },
  {
   "cell_type": "markdown",
   "id": "da4502f6-8bad-42f2-89f7-271b2d99d4d4",
   "metadata": {},
   "source": [
    "It can be seen that there are 2 peaks on the histogram reflecting the distribution of couts by cells. The right peak represents cells suitable for analysis, and the left peak represents cells with too few counts.\n",
    "\n",
    "Filter cells with less than 665 counts"
   ]
  },
  {
   "cell_type": "code",
   "execution_count": null,
   "id": "215802c7-d378-4b43-9828-1ed4fc6de4f6",
   "metadata": {},
   "outputs": [],
   "source": [
    "sc.pp.filter_cells(adata, min_genes=np.e**6.5)\n",
    "print(adata.shape)"
   ]
  },
  {
   "cell_type": "code",
   "execution_count": null,
   "id": "90b7b649-f83d-48af-9f2f-346bcb44e945",
   "metadata": {},
   "outputs": [],
   "source": [
    "ax = sns.histplot(np.log(adata.X.sum(axis=1).A.T[0]), bins=100)"
   ]
  },
  {
   "cell_type": "markdown",
   "id": "0e8a307f-de34-4877-91cc-4c201e7d81e9",
   "metadata": {},
   "source": [
    "### Filtering out cells with too many mitochondrial genes"
   ]
  },
  {
   "cell_type": "markdown",
   "id": "487474bb-7648-4147-ab6b-3427a37de709",
   "metadata": {},
   "source": [
    "Cells with too high a percentage of mitochondrial genes are highly likely to be damaged and unsuitable for analysis."
   ]
  },
  {
   "cell_type": "code",
   "execution_count": null,
   "id": "d6d5f39f-468b-4d4b-ae43-55402c5c47df",
   "metadata": {},
   "outputs": [],
   "source": [
    "adata.var['mt'] = adata.var_names.str.startswith('MT-')  # annotate the group of mitochondrial genes as 'mt'\n",
    "sc.pp.calculate_qc_metrics(adata, qc_vars=['mt'], percent_top=None, log1p=False, inplace=True)"
   ]
  },
  {
   "cell_type": "code",
   "execution_count": null,
   "id": "c8a06842-d503-4088-804c-39a9de88512e",
   "metadata": {},
   "outputs": [],
   "source": [
    "adata.obs.head()"
   ]
  },
  {
   "cell_type": "code",
   "execution_count": null,
   "id": "dcd16b29-56ba-47c4-93f4-fcbfe463c7e1",
   "metadata": {},
   "outputs": [],
   "source": [
    "sc.pl.violin(adata, ['n_genes_by_counts', 'total_counts', 'pct_counts_mt'], jitter = False, multi_panel=True)"
   ]
  },
  {
   "cell_type": "code",
   "execution_count": null,
   "id": "857b29ad-1c15-4990-9231-5863df58ceef",
   "metadata": {},
   "outputs": [],
   "source": [
    "sc.pl.scatter(adata, x='total_counts', y='pct_counts_mt')\n",
    "sc.pl.scatter(adata, x='total_counts', y='n_genes_by_counts')"
   ]
  },
  {
   "cell_type": "code",
   "execution_count": null,
   "id": "4d42e4c3-c88b-4cd3-90bc-fec1658e9461",
   "metadata": {},
   "outputs": [],
   "source": [
    "adata = adata[adata.obs.n_genes_by_counts < 4000, :]\n",
    "adata = adata[adata.obs.pct_counts_mt < 15, :]"
   ]
  },
  {
   "cell_type": "code",
   "execution_count": null,
   "id": "5e5a3023-e30d-486c-a90f-6a981e26142c",
   "metadata": {},
   "outputs": [],
   "source": [
    "sc.pl.scatter(adata, x='total_counts', y='pct_counts_mt')\n",
    "sc.pl.scatter(adata, x='total_counts', y='n_genes_by_counts')"
   ]
  },
  {
   "cell_type": "markdown",
   "id": "13d76687-82cd-4208-9356-e4c783d3a6e7",
   "metadata": {},
   "source": [
    "### Find and remove doublets"
   ]
  },
  {
   "cell_type": "markdown",
   "id": "2a7ea08d-cbb2-4169-bbfb-ab91204d110d",
   "metadata": {},
   "source": [
    "When two cells fall into one drop on one ball with reagents, doublets are formed - 2 cells corresponding to 1 barcode. Due to the mixed signal, they can interfere with further analysis.\n",
    "\n",
    "The scrublet algorithm will be used to search for doublets. Search is perforned per datch"
   ]
  },
  {
   "cell_type": "code",
   "execution_count": null,
   "id": "72210da1-1c02-4edf-aebd-4775ad7b4090",
   "metadata": {},
   "outputs": [],
   "source": [
    "import scanpy.external as sce"
   ]
  },
  {
   "cell_type": "code",
   "execution_count": null,
   "id": "4e018155-3a97-4f99-8858-89c793c19773",
   "metadata": {
    "tags": []
   },
   "outputs": [],
   "source": [
    "sce.pp.scrublet(adata, batch_key = \"sample\")"
   ]
  },
  {
   "cell_type": "code",
   "execution_count": null,
   "id": "2c04c434-ef54-46f3-b235-6c45e65e3207",
   "metadata": {},
   "outputs": [],
   "source": [
    "adata = adata[adata.obs[\"doublet_score\"] < 0.2, :].copy()"
   ]
  },
  {
   "cell_type": "code",
   "execution_count": null,
   "id": "b73c0a17-9d81-4cf9-9f95-fe6e86e9981f",
   "metadata": {},
   "outputs": [],
   "source": [
    "adata_prepared = adata.copy()"
   ]
  },
  {
   "cell_type": "markdown",
   "id": "ccb44b1a-55ca-4624-9a14-b0754c8fe12a",
   "metadata": {},
   "source": [
    "### Normalization, log-transformation, selection of the most variable genes, PCA, clustering, UMAP"
   ]
  },
  {
   "cell_type": "markdown",
   "id": "0ccff361-227d-4b86-80c5-286f8088ced1",
   "metadata": {},
   "source": [
    "The following steps are required for clustering and visualization"
   ]
  },
  {
   "cell_type": "code",
   "execution_count": null,
   "id": "c632e996-ebf8-45e3-b5f3-d372d24cc60a",
   "metadata": {},
   "outputs": [],
   "source": [
    "sc.pp.normalize_total(adata)\n",
    "sc.pp.log1p(adata)"
   ]
  },
  {
   "cell_type": "code",
   "execution_count": null,
   "id": "7f3afcca-9d67-4020-b5ca-1a36be8cbce7",
   "metadata": {},
   "outputs": [],
   "source": [
    "adata_nocorr = adata.copy()\n",
    "sc.pp.highly_variable_genes(\n",
    "    adata_nocorr,\n",
    "    n_top_genes=3000\n",
    ")\n",
    "adata_nocorr.raw = adata_nocorr\n",
    "adata_nocorr = adata_nocorr[:, adata_nocorr.var.highly_variable]\n",
    "\n",
    "sc.pp.scale(adata_nocorr)\n",
    "sc.tl.pca(adata_nocorr, n_comps = 30)\n",
    "\n",
    "sc.pp.neighbors(\n",
    "    adata_nocorr,\n",
    "    n_pcs=30,\n",
    "    n_neighbors=20,\n",
    "    knn=True\n",
    ")\n",
    "\n",
    "sc.tl.leiden(adata_nocorr)\n",
    "\n",
    "sc.tl.umap(adata_nocorr)"
   ]
  },
  {
   "cell_type": "code",
   "execution_count": null,
   "id": "0af6fff4-55a6-458b-bc16-9d4e94f0a87b",
   "metadata": {},
   "outputs": [],
   "source": [
    "sc.pl.umap(adata_nocorr, color=[\"leiden\", \"patient\", 'source', 'MKI67'],\n",
    "           title=[\"Clusters\", \"Batch\", 'Source'], ncols=2, wspace=0.4, frameon=False, cmap=Reds)"
   ]
  },
  {
   "cell_type": "code",
   "execution_count": null,
   "id": "eb8b312b-81e2-4414-a7d2-216a218fd3a4",
   "metadata": {},
   "outputs": [],
   "source": [
    "def barplot(adata, cluster_key, batch_key):\n",
    "    import matplotlib.pyplot as plt\n",
    "    import seaborn\n",
    "    \n",
    "    fig_width = len(adata.obs[cluster_key].cat.categories) * 0.3\n",
    "    fig, ax = plt.subplots(dpi=150, figsize=(fig_width, 2))\n",
    "    \n",
    "    colors = dict(zip(adata.obs[batch_key].cat.categories,\n",
    "                      adata.uns[f\"{batch_key}_colors\"]))\n",
    "    \n",
    "    sizes = adata.obs.groupby([batch_key, cluster_key]).size()\n",
    "    props = sizes.groupby(level=1).apply(lambda x: 100 * x / x.sum())\n",
    "    props.index = props.index.droplevel(level=0)\n",
    "    props = pd.DataFrame({'props': props,\n",
    "                          f'{batch_key}': props.index.droplevel(level=1),\n",
    "                          f'{cluster_key}': props.index.droplevel(level=0)\n",
    "                         })\n",
    "    props = props.pivot(columns=cluster_key, index=batch_key).T\n",
    "    \n",
    "    props.index = props.index.droplevel(0)\n",
    "    props.fillna(0, inplace=True)\n",
    "    props.plot.bar(stacked=True, width=1,\n",
    "                   edgecolor=\"black\", ax=ax, color=colors)\n",
    "    plt.xticks(rotation=90)\n",
    "    ax.set_xlabel(\"\")\n",
    "    ax.legend(loc=(1.01, 0.45), edgecolor=\"white\")"
   ]
  },
  {
   "cell_type": "code",
   "execution_count": null,
   "id": "70b2e2b8-0fed-4de3-bc1d-f75c35d737dc",
   "metadata": {},
   "outputs": [],
   "source": [
    "barplot(adata=adata_nocorr, cluster_key=\"leiden\", batch_key=\"patient\")"
   ]
  },
  {
   "cell_type": "markdown",
   "id": "58183500-cde0-44a8-98d8-f95eeeae76e5",
   "metadata": {},
   "source": [
    "The batch effect is noticeable, as different samples are unevenly distributed across clusters"
   ]
  },
  {
   "cell_type": "markdown",
   "id": "8b62751e-793c-4613-87b1-0a6611e06898",
   "metadata": {},
   "source": [
    "### Batch correction (harmony)"
   ]
  },
  {
   "cell_type": "code",
   "execution_count": null,
   "id": "df701217-d14d-4c94-a4c8-c00cc63ec34f",
   "metadata": {},
   "outputs": [],
   "source": [
    "import symphonypy as sp"
   ]
  },
  {
   "cell_type": "code",
   "execution_count": null,
   "id": "afda6e57-b550-4252-9c2f-bae2780b4ec6",
   "metadata": {},
   "outputs": [],
   "source": [
    "adata_harmony = adata.copy()\n",
    "\n",
    "sc.pp.highly_variable_genes(\n",
    "    adata_harmony,\n",
    "    n_top_genes=3000,\n",
    "    batch_key=\"sample\"\n",
    ")\n",
    "adata_harmony.raw = adata_harmony\n",
    "adata_harmony = adata_harmony[:, adata_harmony.var.highly_variable]\n",
    "\n",
    "sc.pp.scale(adata_harmony, max_value=10)\n",
    "sc.tl.pca(adata_harmony, n_comps = 30)\n",
    "\n",
    "#sc.external.pp.harmony_integrate(adata_harmony, key=\"sample\", max_iter_harmony=20)\n",
    "\n",
    "sp.pp.harmony_integrate(adata_harmony, key=\"sample\", max_iter_harmony=20)\n",
    "\n",
    "# `theta` отвечает за силу интеграции\n",
    "# `max_iter_harmony` отвечает за максимальное число итераций до тех пор, пока алгоритм не сойдётся\n",
    "\n",
    "sc.pp.neighbors(\n",
    "    adata_harmony,\n",
    "    use_rep=\"X_pca_harmony\",\n",
    "    n_pcs=30\n",
    ")\n",
    "\n",
    "sc.tl.leiden(adata_harmony)\n",
    "\n",
    "sc.tl.umap(adata_harmony)\n",
    "     "
   ]
  },
  {
   "cell_type": "code",
   "execution_count": null,
   "id": "47709db1-758c-49a0-a676-27c877b7e491",
   "metadata": {},
   "outputs": [],
   "source": [
    "sc.pl.umap(adata_harmony, color=[\"leiden\", \"patient\", 'source', 'MKI67'],\n",
    "           title=[\"Clusters\", \"Batch\", 'Source'], ncols=2, wspace=0.4, frameon=False, cmap=Reds)"
   ]
  },
  {
   "cell_type": "code",
   "execution_count": null,
   "id": "2b8cefba-8b7e-40dd-8a6d-a329c0eb6063",
   "metadata": {},
   "outputs": [],
   "source": [
    "barplot(adata=adata_harmony, cluster_key=\"leiden\", batch_key=\"patient\")"
   ]
  },
  {
   "cell_type": "markdown",
   "id": "1ed6f240-7c96-48a2-afaf-6ce90f5d6a99",
   "metadata": {},
   "source": [
    "After harmony, the clusters were mixed between patients, so you can work further with the dataset obtained with it."
   ]
  },
  {
   "cell_type": "markdown",
   "id": "c6da3bf1-b181-4d6b-84f6-4499f29a21b3",
   "metadata": {},
   "source": [
    "## Filtration of T lymphocytes (CD3+)"
   ]
  },
  {
   "cell_type": "code",
   "execution_count": null,
   "id": "95e84816-852a-47fc-9bfc-d42391571503",
   "metadata": {},
   "outputs": [],
   "source": [
    "sc.set_figure_params(figsize = (10, 7.5))\n",
    "sns.set_style(\"ticks\")"
   ]
  },
  {
   "cell_type": "code",
   "execution_count": null,
   "id": "aa0f1985-553a-4728-b4ad-9cdc22dd8cc3",
   "metadata": {
    "tags": []
   },
   "outputs": [],
   "source": [
    "sc.pl.umap(adata_harmony, color=['leiden',\"CD3E\", \"EPCAM\", \"CD14\", \"MS4A1\", \"MKI67\"], size=10, ncols=2, cmap=Reds, legend_loc = 'on data', frameon=False)"
   ]
  },
  {
   "cell_type": "markdown",
   "id": "5bcc454b-5733-45d1-8e10-6d155b275d24",
   "metadata": {},
   "source": [
    "EPCAM - epithelial cell marker\n",
    "\n",
    "CD14 macrophage marker\n",
    "\n",
    "MS4A1 - B-lymphocyte marker\n",
    "\n",
    "MKI67 - cycling cell marker\n",
    "\n",
    "Need to filter 9, 13, 15 and 17 clusters"
   ]
  },
  {
   "cell_type": "code",
   "execution_count": null,
   "id": "b9098aef-2250-4403-89e3-d39f6b0548dd",
   "metadata": {},
   "outputs": [],
   "source": [
    "T_clusters = [\"0\", \"1\", \"2\", \"3\", \"4\", \"5\", \"6\", '7', \"8\", '10', '11', '12', '14', '16']\n",
    "adata_T = adata_harmony[adata_harmony.obs.leiden.isin(T_clusters)]\n",
    "\n",
    "adata_T = adata_T.raw.to_adata()\n",
    "adata_T.uns[\"log1p\"][\"base\"] = np.e\n",
    "\n",
    "sc.pp.highly_variable_genes(adata_T, n_top_genes=3000, batch_key=\"sample\")\n",
    "adata_T.raw = adata_T\n",
    "adata_T = adata_T[:, adata_T.var.highly_variable]\n",
    "\n",
    "sc.pp.scale(adata_T, max_value=10)\n",
    "sc.pp.pca(adata_T, n_comps=30)\n",
    "sp.pp.harmony_integrate(adata_T, key=\"sample\", max_iter_harmony=30, verbose=True)\n",
    "sc.pp.neighbors(adata_T, use_rep=\"X_pca_harmony\")\n",
    "sc.tl.umap(adata_T)"
   ]
  },
  {
   "cell_type": "code",
   "execution_count": null,
   "id": "3897d0bf-5b47-40a1-bfc7-b6b61d453ff9",
   "metadata": {},
   "outputs": [],
   "source": [
    "sc.tl.leiden(adata_T)"
   ]
  },
  {
   "cell_type": "code",
   "execution_count": null,
   "id": "ecf5e9f9-3e85-4be0-8908-172839360984",
   "metadata": {},
   "outputs": [],
   "source": [
    "sc.pl.umap(adata_T, color=['leiden',\"CD3E\", \"MKI67\"], size=10, cmap=Reds, legend_loc = 'on data', frameon=False)"
   ]
  },
  {
   "cell_type": "code",
   "execution_count": null,
   "id": "56f4eda5-e351-4b2d-a4de-78f945177f01",
   "metadata": {},
   "outputs": [],
   "source": [
    "markers_from_article = ['MKI67', \"CD8A\", \"CD4\", \"IL7R\", \"GZMK\", \"KLF2\", \"CD69\", \n",
    "                        \"XCL1\", \"SELL\", \"HSPH1\", \"LAYN\", \"GZMA\", \n",
    "                        \"MAL\", \"TOP2A\", \"MCM5\", \"TNFRSF18\", \"IL32\", \n",
    "                        \"GZMH\", \"ISG15\", \"SESN1\", \"CCR8\", \"FCGR3A\"]"
   ]
  },
  {
   "cell_type": "code",
   "execution_count": null,
   "id": "708fcc0a-37cd-4191-a86f-a28f822d8f9d",
   "metadata": {
    "tags": []
   },
   "outputs": [],
   "source": [
    "sc.pl.umap(adata_T, color=[\"leiden\"]+markers_from_article, ncols = 2, size=10, cmap=Reds, legend_loc = 'on data', legend_fontoutline=2)"
   ]
  },
  {
   "cell_type": "markdown",
   "id": "a1d022ca-f945-4670-b329-440be7c2f4c1",
   "metadata": {},
   "source": [
    "## Cell type annotation in groups of CD4+ and CD8+ lymphocytes"
   ]
  },
  {
   "cell_type": "markdown",
   "id": "1581cbe0-a63c-4d82-b911-0b3aeaaf2703",
   "metadata": {},
   "source": [
    "For a more precise annotation of cell types, I will annotate them separately in the **CD4+** and **CD8+** lymphocyte groups.\n",
    "\n",
    "Groups of dividing cells and cells with an interferon signal will be taken out separately"
   ]
  },
  {
   "cell_type": "code",
   "execution_count": null,
   "id": "31705177-6d69-4a83-94d2-a18d04afc93e",
   "metadata": {},
   "outputs": [],
   "source": [
    "cell_type_cluster_map = {'0': \"CD4\",\n",
    "                         '1': \"CD4\", \n",
    "                         '2': \"CD4\",\n",
    "                         '3': \"CD4\",\n",
    "                         '4': \"CD8\",\n",
    "                         '5': \"CD4\",\n",
    "                         '6': \"CD4\",\n",
    "                         '7': \"CD8\",\n",
    "                         '8': \"CD8\",\n",
    "                         '9': \"CD8\",\n",
    "                         '10': \"CD4\",\n",
    "                         '11': \"CD4/8-cycling\", #маркер MKI67\n",
    "                         '12': \"CD8\",\n",
    "                         '13': \"CD4\",\n",
    "                         '14': \"CD8\",\n",
    "                         '15': \"CD4/8-ISG15-IFN\",\n",
    "                         '16': 'CD8'\n",
    "                        }"
   ]
  },
  {
   "cell_type": "code",
   "execution_count": null,
   "id": "0e3cea22-8fe5-46b7-8a2c-b426e2d827ea",
   "metadata": {},
   "outputs": [],
   "source": [
    "adata_T.obs = adata_T.obs.assign(CD4_8=adata_T.obs.leiden)\n",
    "adata_T.obs[\"CD4_8\"] = adata_T.obs[\"CD4_8\"].map(cell_type_cluster_map)"
   ]
  },
  {
   "cell_type": "code",
   "execution_count": null,
   "id": "286d576d-30d7-4457-9024-8c35ddecc08e",
   "metadata": {},
   "outputs": [],
   "source": [
    "adata_T.obs.groupby(\"CD4_8\").count()"
   ]
  },
  {
   "cell_type": "code",
   "execution_count": null,
   "id": "931d019a-606e-4d54-9729-1c45e51d1df4",
   "metadata": {},
   "outputs": [],
   "source": [
    "adata_CD4 = adata_T[adata_T.obs.CD4_8.isin(['CD4'])].copy()\n",
    "adata_CD4 = adata_CD4.raw.to_adata()\n",
    "adata_CD4.uns[\"log1p\"][\"base\"] = np.e\n",
    "\n",
    "sc.pp.highly_variable_genes(adata_CD4, n_top_genes=3000, batch_key=\"sample\")\n",
    "adata_CD4.raw = adata_CD4\n",
    "adata_CD4 = adata_CD4[:, adata_CD4.var.highly_variable]\n",
    "\n",
    "sc.pp.scale(adata_CD4, max_value=10)\n",
    "sc.pp.pca(adata_CD4, n_comps=30)\n",
    "sc.external.pp.harmony_integrate(adata_CD4, key=\"sample\", max_iter_harmony=30, verbose=True)\n",
    "sc.pp.neighbors(adata_CD4, use_rep=\"X_pca_harmony\")\n",
    "sc.tl.umap(adata_CD4)\n",
    "\n",
    "sc.tl.leiden(adata_CD4)"
   ]
  },
  {
   "cell_type": "code",
   "execution_count": null,
   "id": "8d8ecdae-ccee-4fc4-922b-cbfa6bc6d0c2",
   "metadata": {
    "tags": []
   },
   "outputs": [],
   "source": [
    "sc.pl.umap(adata_CD4, color=['leiden'], size=15, cmap=Reds, legend_loc = 'on data')"
   ]
  },
  {
   "cell_type": "code",
   "execution_count": null,
   "id": "963a124d-1313-430b-8098-791050d2aca4",
   "metadata": {},
   "outputs": [],
   "source": [
    "markers_from_article_CD4 = ['MKI67', \"CD8A\", \"CD4\", \"IL7R\", \"CD69\", \n",
    "                            \"SELL\", \"HSPH1\", \"GZMA\", \n",
    "                            \"MAL\", \"TNFRSF18\", \"IL32\", \"ISG15\", \"SESN1\", \"CCR8\"]"
   ]
  },
  {
   "cell_type": "code",
   "execution_count": null,
   "id": "069cacaf-b3eb-4b95-bedb-b9484290b825",
   "metadata": {
    "tags": []
   },
   "outputs": [],
   "source": [
    "sc.pl.umap(adata_CD4, color=['leiden']+markers_from_article_CD4[0:3], size=15, ncols = 2, cmap=Reds, legend_loc = 'on data')"
   ]
  },
  {
   "cell_type": "markdown",
   "id": "f097f7a2-c874-4390-855b-fe5e1c45d197",
   "metadata": {},
   "source": [
    "Cells from cluster 10 obviously CD8+"
   ]
  },
  {
   "cell_type": "code",
   "execution_count": null,
   "id": "ff61ab25-fb87-48d7-be91-8a6cd4cc5cbd",
   "metadata": {},
   "outputs": [],
   "source": [
    "adata_T.obs.loc[adata_CD4.obs.index[adata_CD4.obs.leiden.isin(['10'])], 'CD4_8'] = 'CD8'"
   ]
  },
  {
   "cell_type": "markdown",
   "id": "d7bf598a-359c-42ec-ad44-610c2bd3a9ca",
   "metadata": {},
   "source": [
    "#### CD4 annotation"
   ]
  },
  {
   "cell_type": "code",
   "execution_count": null,
   "id": "99b4b92f-b778-4a6c-a105-7f2630c4cc48",
   "metadata": {},
   "outputs": [],
   "source": [
    "adata_CD4 = adata_T[adata_T.obs.CD4_8.isin(['CD4'])]\n",
    "adata_CD4 = adata_CD4.raw.to_adata()\n",
    "adata_CD4.uns[\"log1p\"][\"base\"] = np.e\n",
    "\n",
    "sc.pp.highly_variable_genes(adata_CD4, n_top_genes=3000, batch_key=\"sample\")\n",
    "adata_CD4.raw = adata_CD4\n",
    "adata_CD4 = adata_CD4[:, adata_CD4.var.highly_variable]\n",
    "\n",
    "sc.pp.scale(adata_CD4, max_value=10)\n",
    "sc.pp.pca(adata_CD4, n_comps=30)\n",
    "sc.external.pp.harmony_integrate(adata_CD4, key=\"sample\", max_iter_harmony=30, verbose=True)\n",
    "sc.pp.neighbors(adata_CD4, use_rep=\"X_pca_harmony\")\n",
    "sc.tl.umap(adata_CD4)\n",
    "\n",
    "sc.tl.leiden(adata_CD4)"
   ]
  },
  {
   "cell_type": "code",
   "execution_count": null,
   "id": "e9a6184e-a839-4d46-b79c-67d8a08daefb",
   "metadata": {
    "tags": []
   },
   "outputs": [],
   "source": [
    "sc.pl.umap(adata_CD4, color=['leiden']+markers_from_article_CD4, size=15, ncols = 2, cmap=Reds, legend_loc = 'on data')"
   ]
  },
  {
   "cell_type": "code",
   "execution_count": null,
   "id": "45c03a89-937d-4657-bb30-6a3c033208eb",
   "metadata": {},
   "outputs": [],
   "source": [
    "markers = 'FCGR3A FGFBP2 CX3CR1 NKG7 KLF2 TNFSF9 CRTAM GZMK ITM2C CMC1 XCL1 KLRC1 XCL2 GZMH LAYN GZMB VCAM1 KLRD1 SLC4A10 CEBPD KLRB1 IFNGR1 CCL20 TRDC TRDV1 HIST1H4C TOP2A MKI67 TUBB MCM5 TYMS ISG15 MX1 IFI44L IFIT1 IFI6 SELL CCR7 SOCS3 IL7R ANXA1 HSPH1 DNAJB1 NR4A1 HSPA1A HSPA6 CD69 CD40LG FOS TNF GZMA PLIN2 SESN1 CH25H CXCL13 PTPN13 ZBED2 IL21 IL32 CTLA4 FOXP3 IL2RA MAL PMAIP1 ICA1 MAGEH1 PMCH CCR8 TNFRSF4 TNFRSF18'.split()"
   ]
  },
  {
   "cell_type": "code",
   "execution_count": null,
   "id": "bd354a99-e165-4959-b76f-be8bf88549c7",
   "metadata": {},
   "outputs": [],
   "source": [
    "sc.pl.heatmap(adata_CD4, markers, groupby='leiden', swap_axes=True, show_gene_labels=True)"
   ]
  },
  {
   "cell_type": "code",
   "execution_count": null,
   "id": "81ba57ac-55e4-4ee2-a2a3-8e96b02a191e",
   "metadata": {},
   "outputs": [],
   "source": [
    "cell_type_cluster_map_CD4 = {'0': \"CD4-IL32_Tregs\",  \n",
    "                             '1': \"CD4-HSPH1_memory\", \n",
    "                             '2': \"CD4-CD69_activated_memory\",\n",
    "                             '3': \"CD4-TNFRSF18_Tfh\",\n",
    "                             '4': \"CD4-SELL_naive\",\n",
    "                             '5': \"CD4-MAL_Tregs\",\n",
    "                             '6': \"CD4-SELL_naive\", \n",
    "                             '7': \"CD4-SESN1_Tfh\", \n",
    "                             '8': \"CD4-GZMA_effectors\", \n",
    "                             '9': \"CD4-IL7R_memory\",\n",
    "                             '10': \"CD4-CCR8_Tregs\"\n",
    "                        }"
   ]
  },
  {
   "cell_type": "code",
   "execution_count": null,
   "id": "1788da04-38db-4594-b3e1-53caf2bf8df2",
   "metadata": {
    "tags": []
   },
   "outputs": [],
   "source": [
    "sc.tl.rank_genes_groups(adata_CD4, groupby=\"leiden\")\n",
    "sc.pl.rank_genes_groups(adata_CD4, n_genes=10, sharey=False, ncols = 3,  fontsize=20)"
   ]
  },
  {
   "cell_type": "code",
   "execution_count": null,
   "id": "b62a1eb4-0139-420e-b7bb-46936e3b598d",
   "metadata": {},
   "outputs": [],
   "source": [
    "adata_CD4.obs = adata_CD4.obs.assign(cell_type=adata_CD4.obs.leiden)\n",
    "adata_CD4.obs[\"cell_type\"] = adata_CD4.obs[\"cell_type\"].map(cell_type_cluster_map_CD4)"
   ]
  },
  {
   "cell_type": "code",
   "execution_count": null,
   "id": "6fa70fe3-6bc8-44c0-a61d-fb23462e227b",
   "metadata": {
    "tags": []
   },
   "outputs": [],
   "source": [
    "adata_CD4.obs"
   ]
  },
  {
   "cell_type": "markdown",
   "id": "04b1b77a-c3c1-4a34-9034-4c61ed86edc9",
   "metadata": {},
   "source": [
    "#### CD8 annotation"
   ]
  },
  {
   "cell_type": "code",
   "execution_count": null,
   "id": "dc5d9a09-b7f9-4ea5-bded-fb64c94aa016",
   "metadata": {},
   "outputs": [],
   "source": [
    "adata_CD8 = adata_T[adata_T.obs.CD4_8.isin(['CD8'])]\n",
    "adata_CD8 = adata_CD8.raw.to_adata()\n",
    "adata_CD8.uns[\"log1p\"][\"base\"] = np.e\n",
    "\n",
    "sc.pp.highly_variable_genes(adata_CD8, n_top_genes=3000, batch_key=\"sample\")\n",
    "adata_CD8.raw = adata_CD8\n",
    "adata_CD8 = adata_CD8[:, adata_CD8.var.highly_variable]\n",
    "\n",
    "sc.pp.scale(adata_CD8, max_value=10)\n",
    "sc.pp.pca(adata_CD8, n_comps=30)\n",
    "sc.external.pp.harmony_integrate(adata_CD8, key=\"sample\", max_iter_harmony=30, verbose=True)\n",
    "sc.pp.neighbors(adata_CD8, use_rep=\"X_pca_harmony\")\n",
    "sc.tl.umap(adata_CD8)\n",
    "\n",
    "sc.tl.leiden(adata_CD8)"
   ]
  },
  {
   "cell_type": "code",
   "execution_count": null,
   "id": "8aaac30d-31e2-4686-8b82-f85fc5166aec",
   "metadata": {},
   "outputs": [],
   "source": [
    "sc.pl.umap(adata_CD8, color=['leiden'], size=20, cmap=Reds, legend_loc = 'on data')"
   ]
  },
  {
   "cell_type": "code",
   "execution_count": null,
   "id": "629debde-3a83-4c0c-9642-7d1523a5bfff",
   "metadata": {},
   "outputs": [],
   "source": [
    "sc.pl.heatmap(adata_CD8, markers, groupby='leiden', swap_axes=True, show_gene_labels=True)"
   ]
  },
  {
   "cell_type": "code",
   "execution_count": null,
   "id": "1cfec1ea-6f56-490d-b88f-aa1ef0b5402f",
   "metadata": {
    "tags": []
   },
   "outputs": [],
   "source": [
    "markers_from_article_CD8 = ['MKI67', \"CD8A\", \"CD4\", \"CD3E\", \"GZMK\", \"KLF2\", \"CD69\", \n",
    "                        \"XCL1\", \"HSPH1\", \"LAYN\", \n",
    "                        \"GZMH\", \"ISG15\", \"FCGR3A\", \"TRDC\"]"
   ]
  },
  {
   "cell_type": "code",
   "execution_count": null,
   "id": "fc55c09f-62e8-4439-a08f-69f057e24cf3",
   "metadata": {
    "tags": []
   },
   "outputs": [],
   "source": [
    "sc.pl.umap(adata_CD8, color=['leiden', 'SELL']+markers_from_article_CD8, size=15, ncols = 2, cmap=Reds, legend_loc = 'on data')"
   ]
  },
  {
   "cell_type": "code",
   "execution_count": null,
   "id": "b94e3f19-a431-4f89-b51b-1e95981167a5",
   "metadata": {},
   "outputs": [],
   "source": [
    "cell_type_cluster_map_CD8 = { '0': \"CD8-GZMH_transitional\",\n",
    "                             '1': \"CD8-GZMK_circulating_precursors\", \n",
    "                             '2': \"CD8-LAYN_terminally_differentiated\",\n",
    "                             '3': \"CD8-KLF2_circulating_precursors\",\n",
    "                             '4': \"CD8-XCL1_resident_precursors\",\n",
    "                             '5': \"CD8-FCGR3A_effectors\",\n",
    "                             '6': \"CD8-LAYN_terminally_differentiated\", \n",
    "                             '7': \"CD8-SELL_naive\",\n",
    "                             '8': \"CD8-SELL_naive\",\n",
    "                             '9': \"CD8-TRDC-gamma_delta\",\n",
    "                             '10': \"CD8-SLC4A10_MAIT\",\n",
    "                        }"
   ]
  },
  {
   "cell_type": "code",
   "execution_count": null,
   "id": "2d9f63b6-e305-49c9-8920-e09670b6f5e4",
   "metadata": {
    "tags": []
   },
   "outputs": [],
   "source": [
    "sc.tl.rank_genes_groups(adata_CD8, groupby=\"leiden\")"
   ]
  },
  {
   "cell_type": "code",
   "execution_count": null,
   "id": "e7b2fd9e-5b87-4cee-9397-3cbd3d3ec4fd",
   "metadata": {
    "tags": []
   },
   "outputs": [],
   "source": [
    "sc.pl.rank_genes_groups(adata_CD8, n_genes=10, sharey=False, ncols = 3,  fontsize=20)"
   ]
  },
  {
   "cell_type": "code",
   "execution_count": null,
   "id": "ddac06e2-f660-483f-8213-4165e4881470",
   "metadata": {},
   "outputs": [],
   "source": [
    "adata_CD8.obs = adata_CD8.obs.assign(cell_type=adata_CD8.obs.leiden)\n",
    "adata_CD8.obs[\"cell_type\"] = adata_CD8.obs[\"cell_type\"].map(cell_type_cluster_map_CD8)"
   ]
  },
  {
   "cell_type": "markdown",
   "id": "39ea1930-16de-44e7-a960-6cd670057933",
   "metadata": {},
   "source": [
    "#### Write the names of cell types in the original dataset in the cell_type column"
   ]
  },
  {
   "cell_type": "code",
   "execution_count": null,
   "id": "5d4f1adc-9c0d-4869-bbf4-ae60291cc755",
   "metadata": {},
   "outputs": [],
   "source": [
    "adata_T.obs = adata_T.obs.merge(pd.concat([adata_CD8.obs.cell_type, adata_CD4.obs.cell_type]), how = \"left\", left_index=True, right_index=True)\n",
    "adata_T.obs['cell_type'] = adata_T.obs['cell_type'].fillna(adata_T.obs.pop('CD4_8'))\n",
    "adata_T.obs"
   ]
  },
  {
   "cell_type": "code",
   "execution_count": null,
   "id": "e8a38591-46b5-4248-b5ef-89325a681117",
   "metadata": {},
   "outputs": [],
   "source": [
    "sc.pl.umap(adata_T, color=['leiden', \"cell_type\"], size=10, cmap=Reds, ncols = 2, legend_loc = 'right margin')"
   ]
  },
  {
   "cell_type": "markdown",
   "id": "bd60855a-462c-403e-899f-3652004c1f4d",
   "metadata": {},
   "source": [
    "## TCR analysis"
   ]
  },
  {
   "cell_type": "markdown",
   "id": "2487fb32-82e4-41a2-95bd-990035472340",
   "metadata": {},
   "source": [
    "Create summary about the Immune cell-receptor compositions and visualise"
   ]
  },
  {
   "cell_type": "code",
   "execution_count": null,
   "id": "dd710844-ee54-460a-9b4d-4595f8563e06",
   "metadata": {},
   "outputs": [],
   "source": [
    "ir.tl.chain_qc(adata_T)"
   ]
  },
  {
   "cell_type": "code",
   "execution_count": null,
   "id": "63e29f6b-0798-402a-a4c8-bdc05a8b6f7e",
   "metadata": {},
   "outputs": [],
   "source": [
    "ax = ir.pl.group_abundance(adata_T, groupby=\"receptor_type\", target_col=\"source\")"
   ]
  },
  {
   "cell_type": "code",
   "execution_count": null,
   "id": "e578e05d-9475-4f80-8423-950ccb9ea965",
   "metadata": {},
   "outputs": [],
   "source": [
    "ax = ir.pl.group_abundance(adata_T, groupby=\"receptor_subtype\", target_col=\"source\")"
   ]
  },
  {
   "cell_type": "code",
   "execution_count": null,
   "id": "ed526db2-7578-4722-8d4e-dd437d2f1721",
   "metadata": {},
   "outputs": [],
   "source": [
    "ax = ir.pl.group_abundance(adata_T, groupby=\"chain_pairing\", target_col=\"source\")"
   ]
  },
  {
   "cell_type": "code",
   "execution_count": null,
   "id": "08e58ebd-66db-4508-b0d3-7b6d8df400c4",
   "metadata": {},
   "outputs": [],
   "source": [
    "ax = ir.pl.group_abundance(adata_T, groupby=\"chain_pairing\", target_col=\"patient\")"
   ]
  },
  {
   "cell_type": "markdown",
   "id": "56136235-88e5-4d66-982e-0146e152f31e",
   "metadata": {},
   "source": [
    "### Filter cells based on TCR"
   ]
  },
  {
   "cell_type": "code",
   "execution_count": null,
   "id": "100bcafb-f42c-4617-984c-4e105a86acd0",
   "metadata": {},
   "outputs": [],
   "source": [
    "adata_TCR_filtered = adata_T[adata_T.obs[\"chain_pairing\"] != \"multichain\", :].copy()\n",
    "adata_TCR_filtered = adata_TCR_filtered[~adata_TCR_filtered.obs[\"chain_pairing\"].isin([\"orphan VDJ\", \"orphan VJ\", 'no IR', 'ambiguous']), :].copy()"
   ]
  },
  {
   "cell_type": "code",
   "execution_count": null,
   "id": "239f06bf-cd30-4fa7-900d-c4e02b263c6c",
   "metadata": {},
   "outputs": [],
   "source": [
    "ax = ir.pl.group_abundance(adata_TCR_filtered, groupby=\"chain_pairing\", target_col=\"source\")"
   ]
  },
  {
   "cell_type": "code",
   "execution_count": null,
   "id": "018fa53d-362b-49cb-b0b6-abccc96dc780",
   "metadata": {},
   "outputs": [],
   "source": [
    "ax = ir.pl.group_abundance(adata_TCR_filtered, groupby=\"chain_pairing\", target_col=\"patient\")"
   ]
  },
  {
   "cell_type": "markdown",
   "id": "fc682b34-e9ed-474d-93f3-b8b3ce576667",
   "metadata": {},
   "source": [
    "### Find clonotypes"
   ]
  },
  {
   "cell_type": "code",
   "execution_count": null,
   "id": "313676d7-f1ea-4137-bab5-64118a8bbf80",
   "metadata": {},
   "outputs": [],
   "source": [
    "ir.pp.ir_dist(adata_TCR_filtered)\n",
    "ir.tl.define_clonotypes(adata_TCR_filtered, receptor_arms=\"all\", dual_ir=\"primary_only\")"
   ]
  },
  {
   "cell_type": "code",
   "execution_count": null,
   "id": "4129737c-0774-4a92-b58a-f15e7bd7de24",
   "metadata": {},
   "outputs": [],
   "source": [
    "ir.tl.clonotype_network(adata_TCR_filtered, min_cells=15)"
   ]
  },
  {
   "cell_type": "code",
   "execution_count": null,
   "id": "5554218b-db38-4b63-b90a-5996fd5e9629",
   "metadata": {},
   "outputs": [],
   "source": [
    "ir.pl.clonotype_network(adata_TCR_filtered, color=\"source\" , base_size=20, label_fontsize=9, panel_size=(7, 7))"
   ]
  },
  {
   "cell_type": "code",
   "execution_count": null,
   "id": "b9612b6b-6dbf-4ec2-8fd4-a8ae07c31a86",
   "metadata": {
    "tags": []
   },
   "outputs": [],
   "source": [
    "adata_TCR_filtered.obs"
   ]
  },
  {
   "cell_type": "code",
   "execution_count": null,
   "id": "3bbb079f-d80f-42c4-9564-a164697d72a1",
   "metadata": {
    "tags": []
   },
   "outputs": [],
   "source": [
    "plt.figure(figsize=(15,5))\n",
    "ax = sns.histplot(adata_TCR_filtered.obs.clone_id_size, binwidth=1)\n",
    "ax.set_xlim(2, 105)\n",
    "ax.set_ylim(0, 2600)"
   ]
  },
  {
   "cell_type": "markdown",
   "id": "bd93d199-8b6f-4be8-9978-ee527cf8fb64",
   "metadata": {},
   "source": [
    "Write infornation abour TCRs in dataset with all T cells"
   ]
  },
  {
   "cell_type": "code",
   "execution_count": null,
   "id": "cbce72e4-c671-4c0a-a524-bc62e0eb8018",
   "metadata": {},
   "outputs": [],
   "source": [
    "adata_T.obs = adata_T.obs.merge(adata_TCR_filtered.obs[['clone_id','clone_id_size']], how = \"left\", left_index=True, right_index=True)"
   ]
  },
  {
   "cell_type": "code",
   "execution_count": null,
   "id": "926049bd-06a9-4166-8bb4-6af0455cb194",
   "metadata": {},
   "outputs": [],
   "source": [
    "adata_T.obs"
   ]
  },
  {
   "cell_type": "code",
   "execution_count": null,
   "id": "ae854094-0d0b-4203-bce0-65de46671f52",
   "metadata": {},
   "outputs": [],
   "source": [
    "sc.pl.umap(adata_T, color=[\"clone_id_size\", 'MKI67', \"cell_type\"], size = 15, cmap = Reds, ncols = 2)"
   ]
  },
  {
   "cell_type": "code",
   "execution_count": null,
   "id": "1af2d805-edd3-4fa7-a69e-064780c818c7",
   "metadata": {},
   "outputs": [],
   "source": [
    "sc.set_figure_params(figsize = (20, 15))"
   ]
  },
  {
   "cell_type": "markdown",
   "id": "ea942254-934b-4b85-9e6c-1cad1c04ae86",
   "metadata": {},
   "source": [
    "### Creating a table with the probabilities of hitting a particular cell type\n",
    "(in a clonotype from 10 cells and at least one of the cells is in a cluster of dividing cells)"
   ]
  },
  {
   "cell_type": "code",
   "execution_count": null,
   "id": "40052684-e5a4-4819-bfae-bee343c7d733",
   "metadata": {},
   "outputs": [],
   "source": [
    "clonotypes_10 = adata_T.obs[['cell_type', 'clone_id','clone_id_size']][adata_T.obs[['cell_type', 'clone_id','clone_id_size']][\"clone_id_size\"] > 10].sort_values('clone_id')\n",
    "clonotypes_10"
   ]
  },
  {
   "cell_type": "code",
   "execution_count": null,
   "id": "bf35ccd0-9018-4632-b971-fc6bf685211a",
   "metadata": {},
   "outputs": [],
   "source": [
    "clonotypes_10_cycling = clonotypes_10[clonotypes_10.clone_id.isin(clonotypes_10[clonotypes_10['cell_type']=='CD4/8-cycling'].clone_id)]\n",
    "clonotypes_10_cycling"
   ]
  },
  {
   "cell_type": "code",
   "execution_count": null,
   "id": "c6f76c54-11b1-489a-9833-29c2395cffce",
   "metadata": {},
   "outputs": [],
   "source": [
    "cell_types = list(set(clonotypes_10_cycling.cell_type))\n",
    "cell_types.remove('CD4/8-cycling')\n",
    "cell_types = list(set(clonotypes_10_cycling.columns)) + ['CD4/8-cycling'] + cell_types\n",
    "cell_types.remove('cell_type')"
   ]
  },
  {
   "cell_type": "code",
   "execution_count": null,
   "id": "dd31bceb-1d35-4fc1-a66b-ab6c719f7ce7",
   "metadata": {
    "tags": []
   },
   "outputs": [],
   "source": [
    "clonotype_cell_type = pd.DataFrame(columns = cell_types)\n",
    "for clone in list(set(clonotypes_10_cycling.clone_id)):\n",
    "    clonotype_cell_type.loc[len(clonotype_cell_type.index)] = np.zeros(len(cell_types))\n",
    "    temp = clonotypes_10_cycling[clonotypes_10_cycling.clone_id == clone]\n",
    "    \n",
    "    clonotype_cell_type['clone_id_size'][len(clonotype_cell_type.index)-1] = temp.clone_id_size[0]\n",
    "    clonotype_cell_type['clone_id'][len(clonotype_cell_type.index)-1] = temp.clone_id[0]\n",
    "    \n",
    "    for cell in temp.index:\n",
    "        clonotype_cell_type[temp.loc[cell].cell_type][len(clonotype_cell_type.index)-1]+= 1\n",
    "    \n",
    "clonotype_cell_type    "
   ]
  },
  {
   "cell_type": "code",
   "execution_count": null,
   "id": "0dd362bf-322e-44b7-af6a-775aaa17543f",
   "metadata": {
    "tags": []
   },
   "outputs": [],
   "source": [
    "clonotype_cell_type_prop = clonotype_cell_type.copy()\n",
    "for ct in clonotype_cell_type_prop.columns[3:]:\n",
    "    clonotype_cell_type_prop[ct] = clonotype_cell_type_prop[ct] / (clonotype_cell_type_prop['clone_id_size'] - clonotype_cell_type_prop['CD4/8-cycling'])\n",
    "    \n",
    "clonotype_cell_type_prop"
   ]
  },
  {
   "cell_type": "code",
   "execution_count": null,
   "id": "17775cbf-b9bf-4ac3-b2f5-4f7a5ef0990a",
   "metadata": {},
   "outputs": [],
   "source": [
    "clonotype_cell_type_prop.to_csv(\"data/GSE162500_cell_type_ver.csv\")"
   ]
  },
  {
   "cell_type": "code",
   "execution_count": null,
   "id": "7ba45301-5093-44e2-9428-043f1fef8346",
   "metadata": {},
   "outputs": [],
   "source": [
    "sc.pl.umap(adata_T, color=\"cell_type\", show=False, size=30)\n",
    "sc.pl.umap(\n",
    "    adata_T,\n",
    "    color=\"clone_id\",\n",
    "    groups = list(clonotype_cell_type.clone_id),\n",
    "    palette=cycler(color=mpl_cm.Dark2_r.colors), \n",
    "    size=80\n",
    ")"
   ]
  },
  {
   "cell_type": "code",
   "execution_count": null,
   "id": "e5833dbe-1c4e-4006-88a3-e2cc78ad8d06",
   "metadata": {
    "tags": []
   },
   "outputs": [],
   "source": [
    "ir.pl.group_abundance(adata_T[adata_T.obs.clone_id.isin(clonotype_cell_type.clone_id)], groupby=\"clone_id\", target_col=\"cell_type\")"
   ]
  },
  {
   "cell_type": "markdown",
   "id": "c83730b2-f256-4e9f-bdfc-cfa1cc6d4aa3",
   "metadata": {},
   "source": [
    "## Preparing a dataset for validation"
   ]
  },
  {
   "cell_type": "markdown",
   "id": "fe4e93e3-01de-43c4-84fa-eca548b8e04f",
   "metadata": {},
   "source": [
    "It is necessary to make a dataset with counts and information about cell types, clonotypes, and so on.\n",
    "\n",
    "**adata_T.obs** has the necessary information, and **adata** (downloaded from data/GSE162500_adata_all_samples_filtered.h5ad) has count information, but it contains data on poor-quality UMI and non-T cells"
   ]
  },
  {
   "cell_type": "code",
   "execution_count": null,
   "id": "399592d7-1ad7-4d5f-99a7-08bc282528a3",
   "metadata": {},
   "outputs": [],
   "source": [
    "#индексы нужных клеток\n",
    "adata_T.obs.index"
   ]
  },
  {
   "cell_type": "code",
   "execution_count": null,
   "id": "dc10c760-8d9e-47f0-a6ad-8841dae75ca4",
   "metadata": {},
   "outputs": [],
   "source": [
    "adata = sc.read(\"data/GSE162500_adata_all_samples_filtered.h5ad\")"
   ]
  },
  {
   "cell_type": "markdown",
   "id": "f3cbd429-7f32-43cc-908f-98ba9009e836",
   "metadata": {},
   "source": [
    "Keep only the good T cells"
   ]
  },
  {
   "cell_type": "code",
   "execution_count": null,
   "id": "a4aac97b-7b9a-4705-a45f-49a3def64c78",
   "metadata": {},
   "outputs": [],
   "source": [
    "adata_val = adata[adata.obs.index.isin(adata_T.obs.index)]"
   ]
  },
  {
   "cell_type": "code",
   "execution_count": null,
   "id": "b6317d77-648d-4abf-bc39-3043ffe39437",
   "metadata": {},
   "outputs": [],
   "source": [
    "adata_val.obs"
   ]
  },
  {
   "cell_type": "code",
   "execution_count": null,
   "id": "52204d5e-4ae0-4c14-9133-fce0266b5f02",
   "metadata": {},
   "outputs": [],
   "source": [
    "adata_val.obs = adata_T.obs"
   ]
  },
  {
   "cell_type": "code",
   "execution_count": null,
   "id": "a33e079a-b4b0-4c70-ab80-10eca1f5b0ce",
   "metadata": {},
   "outputs": [],
   "source": [
    "adata_val.obs"
   ]
  },
  {
   "cell_type": "code",
   "execution_count": null,
   "id": "96b82138-ed99-4f65-9fce-f9f36bb42ae7",
   "metadata": {},
   "outputs": [],
   "source": [
    "adata_val.write(\"data/GSE162500_for_validation.h5ad\")"
   ]
  }
 ],
 "metadata": {
  "kernelspec": {
   "display_name": "Python 3 (ipykernel)",
   "language": "python",
   "name": "python3"
  },
  "language_info": {
   "codemirror_mode": {
    "name": "ipython",
    "version": 3
   },
   "file_extension": ".py",
   "mimetype": "text/x-python",
   "name": "python",
   "nbconvert_exporter": "python",
   "pygments_lexer": "ipython3",
   "version": "3.10.5"
  }
 },
 "nbformat": 4,
 "nbformat_minor": 5
}
